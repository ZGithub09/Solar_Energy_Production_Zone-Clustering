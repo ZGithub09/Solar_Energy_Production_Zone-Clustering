{
  "nbformat": 4,
  "nbformat_minor": 0,
  "metadata": {
    "colab": {
      "provenance": []
    },
    "kernelspec": {
      "name": "python3",
      "display_name": "Python 3"
    },
    "language_info": {
      "name": "python"
    }
  },
  "cells": [
    {
      "cell_type": "markdown",
      "source": [
        "## **Objective:**\n",
        "* This project aims to leverage data containing information on existing solar power projects within the target area. Through the analysis of this data, our goal is to group(cluster) geographical areas based on their overall energy production."
      ],
      "metadata": {
        "id": "g13oKxKQEmXt"
      }
    },
    {
      "cell_type": "code",
      "execution_count": 82,
      "metadata": {
        "id": "dMzqhzwKBqxc"
      },
      "outputs": [],
      "source": [
        "import pandas as pd\n",
        "import numpy as np\n",
        "import seaborn as sns\n",
        "import matplotlib.pyplot as plt\n",
        "from sklearn.cluster import KMeans\n",
        "from sklearn.preprocessing import MinMaxScaler\n",
        "from sklearn.datasets import make_blobs\n",
        "pd.set_option('display.max_columns', None)\n",
        "pd.set_option('display.max_rows', None)"
      ]
    },
    {
      "cell_type": "code",
      "source": [
        "df = pd.read_csv(\"/content/Statewide Solar Projects.csv\", low_memory=False)\n",
        "df.head()"
      ],
      "metadata": {
        "colab": {
          "base_uri": "https://localhost:8080/",
          "height": 451
        },
        "id": "vekL7agME2_Y",
        "outputId": "83af9b13-0e34-45ad-ae1f-299b82a6487d"
      },
      "execution_count": 5,
      "outputs": [
        {
          "output_type": "execute_result",
          "data": {
            "text/plain": [
              "  Data Through Date Project ID Interconnection Date Utility  \\\n",
              "0        12/31/2023  SDG-66301           12/29/2023  Con Ed   \n",
              "1        12/31/2023  SDG-66299           12/29/2023  Con Ed   \n",
              "2        12/31/2023  SDG-66288           12/29/2023  Con Ed   \n",
              "3        12/31/2023  SDG-66284           12/29/2023  Con Ed   \n",
              "4        12/31/2023  SDG-66277           12/28/2023  Con Ed   \n",
              "\n",
              "             City/Town  County      Zip Division     Substation Circuit ID  \\\n",
              "0        Richmond Hill  Queens  11418.0  CENY-BK  Brownsville_2       9B05   \n",
              "1                Bronx   Bronx  10473.0  CENY-BX  Parkchester_2       5X67   \n",
              "2             Brooklyn   Kings  11225.0  CENY-BK  Bensonhurst_2       4B08   \n",
              "3             Brooklyn   Kings  11236.0  CENY-BK  Bensonhurst_2       3037   \n",
              "4  Springfield Gardens  Queens  11413.0   CENY-Q        Jamaica       9112   \n",
              "\n",
              "                 Developer Metering Method  Estimated PV System Size (kWdc)  \\\n",
              "0  Kamtech Solar Solutions              NM                             6.05   \n",
              "1  Kamtech Solar Solutions              NM                             6.74   \n",
              "2                    SUNCO              NM                             3.05   \n",
              "3  Kamtech Solar Solutions              NM                             5.62   \n",
              "4  Kamtech Solar Solutions              NM                             6.05   \n",
              "\n",
              "   PV System Size (kWac)  Estimated Annual PV Energy Production (kWh)  \\\n",
              "0                   5.17                                         7100   \n",
              "1                   5.76                                         7911   \n",
              "2                   2.61                                         3585   \n",
              "3                   4.80                                         6592   \n",
              "4                   5.17                                         7100   \n",
              "\n",
              "   Energy Storage System Size (kWac)  Number of Projects  \n",
              "0                                NaN                   1  \n",
              "1                                NaN                   1  \n",
              "2                                NaN                   1  \n",
              "3                                NaN                   1  \n",
              "4                                NaN                   1  "
            ],
            "text/html": [
              "\n",
              "  <div id=\"df-73de5b3d-e8b4-49f2-95fc-afc7f63077d4\" class=\"colab-df-container\">\n",
              "    <div>\n",
              "<style scoped>\n",
              "    .dataframe tbody tr th:only-of-type {\n",
              "        vertical-align: middle;\n",
              "    }\n",
              "\n",
              "    .dataframe tbody tr th {\n",
              "        vertical-align: top;\n",
              "    }\n",
              "\n",
              "    .dataframe thead th {\n",
              "        text-align: right;\n",
              "    }\n",
              "</style>\n",
              "<table border=\"1\" class=\"dataframe\">\n",
              "  <thead>\n",
              "    <tr style=\"text-align: right;\">\n",
              "      <th></th>\n",
              "      <th>Data Through Date</th>\n",
              "      <th>Project ID</th>\n",
              "      <th>Interconnection Date</th>\n",
              "      <th>Utility</th>\n",
              "      <th>City/Town</th>\n",
              "      <th>County</th>\n",
              "      <th>Zip</th>\n",
              "      <th>Division</th>\n",
              "      <th>Substation</th>\n",
              "      <th>Circuit ID</th>\n",
              "      <th>Developer</th>\n",
              "      <th>Metering Method</th>\n",
              "      <th>Estimated PV System Size (kWdc)</th>\n",
              "      <th>PV System Size (kWac)</th>\n",
              "      <th>Estimated Annual PV Energy Production (kWh)</th>\n",
              "      <th>Energy Storage System Size (kWac)</th>\n",
              "      <th>Number of Projects</th>\n",
              "    </tr>\n",
              "  </thead>\n",
              "  <tbody>\n",
              "    <tr>\n",
              "      <th>0</th>\n",
              "      <td>12/31/2023</td>\n",
              "      <td>SDG-66301</td>\n",
              "      <td>12/29/2023</td>\n",
              "      <td>Con Ed</td>\n",
              "      <td>Richmond Hill</td>\n",
              "      <td>Queens</td>\n",
              "      <td>11418.0</td>\n",
              "      <td>CENY-BK</td>\n",
              "      <td>Brownsville_2</td>\n",
              "      <td>9B05</td>\n",
              "      <td>Kamtech Solar Solutions</td>\n",
              "      <td>NM</td>\n",
              "      <td>6.05</td>\n",
              "      <td>5.17</td>\n",
              "      <td>7100</td>\n",
              "      <td>NaN</td>\n",
              "      <td>1</td>\n",
              "    </tr>\n",
              "    <tr>\n",
              "      <th>1</th>\n",
              "      <td>12/31/2023</td>\n",
              "      <td>SDG-66299</td>\n",
              "      <td>12/29/2023</td>\n",
              "      <td>Con Ed</td>\n",
              "      <td>Bronx</td>\n",
              "      <td>Bronx</td>\n",
              "      <td>10473.0</td>\n",
              "      <td>CENY-BX</td>\n",
              "      <td>Parkchester_2</td>\n",
              "      <td>5X67</td>\n",
              "      <td>Kamtech Solar Solutions</td>\n",
              "      <td>NM</td>\n",
              "      <td>6.74</td>\n",
              "      <td>5.76</td>\n",
              "      <td>7911</td>\n",
              "      <td>NaN</td>\n",
              "      <td>1</td>\n",
              "    </tr>\n",
              "    <tr>\n",
              "      <th>2</th>\n",
              "      <td>12/31/2023</td>\n",
              "      <td>SDG-66288</td>\n",
              "      <td>12/29/2023</td>\n",
              "      <td>Con Ed</td>\n",
              "      <td>Brooklyn</td>\n",
              "      <td>Kings</td>\n",
              "      <td>11225.0</td>\n",
              "      <td>CENY-BK</td>\n",
              "      <td>Bensonhurst_2</td>\n",
              "      <td>4B08</td>\n",
              "      <td>SUNCO</td>\n",
              "      <td>NM</td>\n",
              "      <td>3.05</td>\n",
              "      <td>2.61</td>\n",
              "      <td>3585</td>\n",
              "      <td>NaN</td>\n",
              "      <td>1</td>\n",
              "    </tr>\n",
              "    <tr>\n",
              "      <th>3</th>\n",
              "      <td>12/31/2023</td>\n",
              "      <td>SDG-66284</td>\n",
              "      <td>12/29/2023</td>\n",
              "      <td>Con Ed</td>\n",
              "      <td>Brooklyn</td>\n",
              "      <td>Kings</td>\n",
              "      <td>11236.0</td>\n",
              "      <td>CENY-BK</td>\n",
              "      <td>Bensonhurst_2</td>\n",
              "      <td>3037</td>\n",
              "      <td>Kamtech Solar Solutions</td>\n",
              "      <td>NM</td>\n",
              "      <td>5.62</td>\n",
              "      <td>4.80</td>\n",
              "      <td>6592</td>\n",
              "      <td>NaN</td>\n",
              "      <td>1</td>\n",
              "    </tr>\n",
              "    <tr>\n",
              "      <th>4</th>\n",
              "      <td>12/31/2023</td>\n",
              "      <td>SDG-66277</td>\n",
              "      <td>12/28/2023</td>\n",
              "      <td>Con Ed</td>\n",
              "      <td>Springfield Gardens</td>\n",
              "      <td>Queens</td>\n",
              "      <td>11413.0</td>\n",
              "      <td>CENY-Q</td>\n",
              "      <td>Jamaica</td>\n",
              "      <td>9112</td>\n",
              "      <td>Kamtech Solar Solutions</td>\n",
              "      <td>NM</td>\n",
              "      <td>6.05</td>\n",
              "      <td>5.17</td>\n",
              "      <td>7100</td>\n",
              "      <td>NaN</td>\n",
              "      <td>1</td>\n",
              "    </tr>\n",
              "  </tbody>\n",
              "</table>\n",
              "</div>\n",
              "    <div class=\"colab-df-buttons\">\n",
              "\n",
              "  <div class=\"colab-df-container\">\n",
              "    <button class=\"colab-df-convert\" onclick=\"convertToInteractive('df-73de5b3d-e8b4-49f2-95fc-afc7f63077d4')\"\n",
              "            title=\"Convert this dataframe to an interactive table.\"\n",
              "            style=\"display:none;\">\n",
              "\n",
              "  <svg xmlns=\"http://www.w3.org/2000/svg\" height=\"24px\" viewBox=\"0 -960 960 960\">\n",
              "    <path d=\"M120-120v-720h720v720H120Zm60-500h600v-160H180v160Zm220 220h160v-160H400v160Zm0 220h160v-160H400v160ZM180-400h160v-160H180v160Zm440 0h160v-160H620v160ZM180-180h160v-160H180v160Zm440 0h160v-160H620v160Z\"/>\n",
              "  </svg>\n",
              "    </button>\n",
              "\n",
              "  <style>\n",
              "    .colab-df-container {\n",
              "      display:flex;\n",
              "      gap: 12px;\n",
              "    }\n",
              "\n",
              "    .colab-df-convert {\n",
              "      background-color: #E8F0FE;\n",
              "      border: none;\n",
              "      border-radius: 50%;\n",
              "      cursor: pointer;\n",
              "      display: none;\n",
              "      fill: #1967D2;\n",
              "      height: 32px;\n",
              "      padding: 0 0 0 0;\n",
              "      width: 32px;\n",
              "    }\n",
              "\n",
              "    .colab-df-convert:hover {\n",
              "      background-color: #E2EBFA;\n",
              "      box-shadow: 0px 1px 2px rgba(60, 64, 67, 0.3), 0px 1px 3px 1px rgba(60, 64, 67, 0.15);\n",
              "      fill: #174EA6;\n",
              "    }\n",
              "\n",
              "    .colab-df-buttons div {\n",
              "      margin-bottom: 4px;\n",
              "    }\n",
              "\n",
              "    [theme=dark] .colab-df-convert {\n",
              "      background-color: #3B4455;\n",
              "      fill: #D2E3FC;\n",
              "    }\n",
              "\n",
              "    [theme=dark] .colab-df-convert:hover {\n",
              "      background-color: #434B5C;\n",
              "      box-shadow: 0px 1px 3px 1px rgba(0, 0, 0, 0.15);\n",
              "      filter: drop-shadow(0px 1px 2px rgba(0, 0, 0, 0.3));\n",
              "      fill: #FFFFFF;\n",
              "    }\n",
              "  </style>\n",
              "\n",
              "    <script>\n",
              "      const buttonEl =\n",
              "        document.querySelector('#df-73de5b3d-e8b4-49f2-95fc-afc7f63077d4 button.colab-df-convert');\n",
              "      buttonEl.style.display =\n",
              "        google.colab.kernel.accessAllowed ? 'block' : 'none';\n",
              "\n",
              "      async function convertToInteractive(key) {\n",
              "        const element = document.querySelector('#df-73de5b3d-e8b4-49f2-95fc-afc7f63077d4');\n",
              "        const dataTable =\n",
              "          await google.colab.kernel.invokeFunction('convertToInteractive',\n",
              "                                                    [key], {});\n",
              "        if (!dataTable) return;\n",
              "\n",
              "        const docLinkHtml = 'Like what you see? Visit the ' +\n",
              "          '<a target=\"_blank\" href=https://colab.research.google.com/notebooks/data_table.ipynb>data table notebook</a>'\n",
              "          + ' to learn more about interactive tables.';\n",
              "        element.innerHTML = '';\n",
              "        dataTable['output_type'] = 'display_data';\n",
              "        await google.colab.output.renderOutput(dataTable, element);\n",
              "        const docLink = document.createElement('div');\n",
              "        docLink.innerHTML = docLinkHtml;\n",
              "        element.appendChild(docLink);\n",
              "      }\n",
              "    </script>\n",
              "  </div>\n",
              "\n",
              "\n",
              "<div id=\"df-e370da73-ef5b-43c0-8729-bcb19c81471e\">\n",
              "  <button class=\"colab-df-quickchart\" onclick=\"quickchart('df-e370da73-ef5b-43c0-8729-bcb19c81471e')\"\n",
              "            title=\"Suggest charts\"\n",
              "            style=\"display:none;\">\n",
              "\n",
              "<svg xmlns=\"http://www.w3.org/2000/svg\" height=\"24px\"viewBox=\"0 0 24 24\"\n",
              "     width=\"24px\">\n",
              "    <g>\n",
              "        <path d=\"M19 3H5c-1.1 0-2 .9-2 2v14c0 1.1.9 2 2 2h14c1.1 0 2-.9 2-2V5c0-1.1-.9-2-2-2zM9 17H7v-7h2v7zm4 0h-2V7h2v10zm4 0h-2v-4h2v4z\"/>\n",
              "    </g>\n",
              "</svg>\n",
              "  </button>\n",
              "\n",
              "<style>\n",
              "  .colab-df-quickchart {\n",
              "      --bg-color: #E8F0FE;\n",
              "      --fill-color: #1967D2;\n",
              "      --hover-bg-color: #E2EBFA;\n",
              "      --hover-fill-color: #174EA6;\n",
              "      --disabled-fill-color: #AAA;\n",
              "      --disabled-bg-color: #DDD;\n",
              "  }\n",
              "\n",
              "  [theme=dark] .colab-df-quickchart {\n",
              "      --bg-color: #3B4455;\n",
              "      --fill-color: #D2E3FC;\n",
              "      --hover-bg-color: #434B5C;\n",
              "      --hover-fill-color: #FFFFFF;\n",
              "      --disabled-bg-color: #3B4455;\n",
              "      --disabled-fill-color: #666;\n",
              "  }\n",
              "\n",
              "  .colab-df-quickchart {\n",
              "    background-color: var(--bg-color);\n",
              "    border: none;\n",
              "    border-radius: 50%;\n",
              "    cursor: pointer;\n",
              "    display: none;\n",
              "    fill: var(--fill-color);\n",
              "    height: 32px;\n",
              "    padding: 0;\n",
              "    width: 32px;\n",
              "  }\n",
              "\n",
              "  .colab-df-quickchart:hover {\n",
              "    background-color: var(--hover-bg-color);\n",
              "    box-shadow: 0 1px 2px rgba(60, 64, 67, 0.3), 0 1px 3px 1px rgba(60, 64, 67, 0.15);\n",
              "    fill: var(--button-hover-fill-color);\n",
              "  }\n",
              "\n",
              "  .colab-df-quickchart-complete:disabled,\n",
              "  .colab-df-quickchart-complete:disabled:hover {\n",
              "    background-color: var(--disabled-bg-color);\n",
              "    fill: var(--disabled-fill-color);\n",
              "    box-shadow: none;\n",
              "  }\n",
              "\n",
              "  .colab-df-spinner {\n",
              "    border: 2px solid var(--fill-color);\n",
              "    border-color: transparent;\n",
              "    border-bottom-color: var(--fill-color);\n",
              "    animation:\n",
              "      spin 1s steps(1) infinite;\n",
              "  }\n",
              "\n",
              "  @keyframes spin {\n",
              "    0% {\n",
              "      border-color: transparent;\n",
              "      border-bottom-color: var(--fill-color);\n",
              "      border-left-color: var(--fill-color);\n",
              "    }\n",
              "    20% {\n",
              "      border-color: transparent;\n",
              "      border-left-color: var(--fill-color);\n",
              "      border-top-color: var(--fill-color);\n",
              "    }\n",
              "    30% {\n",
              "      border-color: transparent;\n",
              "      border-left-color: var(--fill-color);\n",
              "      border-top-color: var(--fill-color);\n",
              "      border-right-color: var(--fill-color);\n",
              "    }\n",
              "    40% {\n",
              "      border-color: transparent;\n",
              "      border-right-color: var(--fill-color);\n",
              "      border-top-color: var(--fill-color);\n",
              "    }\n",
              "    60% {\n",
              "      border-color: transparent;\n",
              "      border-right-color: var(--fill-color);\n",
              "    }\n",
              "    80% {\n",
              "      border-color: transparent;\n",
              "      border-right-color: var(--fill-color);\n",
              "      border-bottom-color: var(--fill-color);\n",
              "    }\n",
              "    90% {\n",
              "      border-color: transparent;\n",
              "      border-bottom-color: var(--fill-color);\n",
              "    }\n",
              "  }\n",
              "</style>\n",
              "\n",
              "  <script>\n",
              "    async function quickchart(key) {\n",
              "      const quickchartButtonEl =\n",
              "        document.querySelector('#' + key + ' button');\n",
              "      quickchartButtonEl.disabled = true;  // To prevent multiple clicks.\n",
              "      quickchartButtonEl.classList.add('colab-df-spinner');\n",
              "      try {\n",
              "        const charts = await google.colab.kernel.invokeFunction(\n",
              "            'suggestCharts', [key], {});\n",
              "      } catch (error) {\n",
              "        console.error('Error during call to suggestCharts:', error);\n",
              "      }\n",
              "      quickchartButtonEl.classList.remove('colab-df-spinner');\n",
              "      quickchartButtonEl.classList.add('colab-df-quickchart-complete');\n",
              "    }\n",
              "    (() => {\n",
              "      let quickchartButtonEl =\n",
              "        document.querySelector('#df-e370da73-ef5b-43c0-8729-bcb19c81471e button');\n",
              "      quickchartButtonEl.style.display =\n",
              "        google.colab.kernel.accessAllowed ? 'block' : 'none';\n",
              "    })();\n",
              "  </script>\n",
              "</div>\n",
              "\n",
              "    </div>\n",
              "  </div>\n"
            ],
            "application/vnd.google.colaboratory.intrinsic+json": {
              "type": "dataframe",
              "variable_name": "df"
            }
          },
          "metadata": {},
          "execution_count": 5
        }
      ]
    },
    {
      "cell_type": "markdown",
      "source": [
        "# **Data Wrangling**"
      ],
      "metadata": {
        "id": "iPfmpQPpG5tu"
      }
    },
    {
      "cell_type": "code",
      "source": [
        "df.shape"
      ],
      "metadata": {
        "colab": {
          "base_uri": "https://localhost:8080/"
        },
        "id": "xCpklXelFLTv",
        "outputId": "fb20ae93-2145-4aeb-a2da-076ded7b5187"
      },
      "execution_count": 8,
      "outputs": [
        {
          "output_type": "execute_result",
          "data": {
            "text/plain": [
              "(218115, 17)"
            ]
          },
          "metadata": {},
          "execution_count": 8
        }
      ]
    },
    {
      "cell_type": "code",
      "source": [
        "df.columns"
      ],
      "metadata": {
        "colab": {
          "base_uri": "https://localhost:8080/"
        },
        "id": "Tn-JtS8hFyQF",
        "outputId": "8879b9fe-5510-4996-f20d-0ee042255981"
      },
      "execution_count": 9,
      "outputs": [
        {
          "output_type": "execute_result",
          "data": {
            "text/plain": [
              "Index(['Data Through Date', 'Project ID', 'Interconnection Date', 'Utility',\n",
              "       'City/Town', 'County', 'Zip', 'Division', 'Substation', 'Circuit ID',\n",
              "       'Developer', 'Metering Method', 'Estimated PV System Size (kWdc)',\n",
              "       'PV System Size (kWac)', 'Estimated Annual PV Energy Production (kWh)',\n",
              "       'Energy Storage System Size (kWac)', 'Number of Projects'],\n",
              "      dtype='object')"
            ]
          },
          "metadata": {},
          "execution_count": 9
        }
      ]
    },
    {
      "cell_type": "code",
      "source": [
        "df.info()"
      ],
      "metadata": {
        "colab": {
          "base_uri": "https://localhost:8080/"
        },
        "id": "NHgboZFFF2hV",
        "outputId": "a87f4522-450b-4bab-d199-b90132af4112"
      },
      "execution_count": 11,
      "outputs": [
        {
          "output_type": "stream",
          "name": "stdout",
          "text": [
            "<class 'pandas.core.frame.DataFrame'>\n",
            "RangeIndex: 218115 entries, 0 to 218114\n",
            "Data columns (total 17 columns):\n",
            " #   Column                                       Non-Null Count   Dtype  \n",
            "---  ------                                       --------------   -----  \n",
            " 0   Data Through Date                            218115 non-null  object \n",
            " 1   Project ID                                   218112 non-null  object \n",
            " 2   Interconnection Date                         218115 non-null  object \n",
            " 3   Utility                                      218115 non-null  object \n",
            " 4   City/Town                                    218057 non-null  object \n",
            " 5   County                                       218115 non-null  object \n",
            " 6   Zip                                          218019 non-null  float64\n",
            " 7   Division                                     132881 non-null  object \n",
            " 8   Substation                                   138171 non-null  object \n",
            " 9   Circuit ID                                   218085 non-null  object \n",
            " 10  Developer                                    207565 non-null  object \n",
            " 11  Metering Method                              217652 non-null  object \n",
            " 12  Estimated PV System Size (kWdc)              218115 non-null  float64\n",
            " 13  PV System Size (kWac)                        218115 non-null  float64\n",
            " 14  Estimated Annual PV Energy Production (kWh)  218115 non-null  int64  \n",
            " 15  Energy Storage System Size (kWac)            4091 non-null    float64\n",
            " 16  Number of Projects                           218115 non-null  int64  \n",
            "dtypes: float64(4), int64(2), object(11)\n",
            "memory usage: 28.3+ MB\n"
          ]
        }
      ]
    },
    {
      "cell_type": "code",
      "source": [
        "df.describe()"
      ],
      "metadata": {
        "colab": {
          "base_uri": "https://localhost:8080/",
          "height": 389
        },
        "id": "ROtL7sDcF7Rh",
        "outputId": "bfaf1b1f-640d-48a0-f7d8-1230b076444e"
      },
      "execution_count": 12,
      "outputs": [
        {
          "output_type": "execute_result",
          "data": {
            "text/plain": [
              "                 Zip  Estimated PV System Size (kWdc)  PV System Size (kWac)  \\\n",
              "count  218019.000000                    218115.000000          218115.000000   \n",
              "mean    11751.734473                        24.507977              19.065451   \n",
              "std       962.129108                       291.525394             211.419642   \n",
              "min     10001.000000                         0.010000               0.010000   \n",
              "25%     11220.000000                         5.270000               4.500000   \n",
              "50%     11717.000000                         7.130000               6.090000   \n",
              "75%     12018.000000                        10.240000               8.750000   \n",
              "max     14905.000000                     43470.000000           31500.000000   \n",
              "\n",
              "       Estimated Annual PV Energy Production (kWh)  \\\n",
              "count                                 2.181150e+05   \n",
              "mean                                  2.876828e+04   \n",
              "std                                   3.422042e+05   \n",
              "min                                   1.400000e+01   \n",
              "25%                                   6.180000e+03   \n",
              "50%                                   8.364000e+03   \n",
              "75%                                   1.201700e+04   \n",
              "max                                   5.102682e+07   \n",
              "\n",
              "       Energy Storage System Size (kWac)  Number of Projects  \n",
              "count                        4091.000000            218115.0  \n",
              "mean                           32.174727                 1.0  \n",
              "std                           296.161116                 0.0  \n",
              "min                             0.350000                 1.0  \n",
              "25%                             5.000000                 1.0  \n",
              "50%                             7.600000                 1.0  \n",
              "75%                            10.000000                 1.0  \n",
              "max                          5000.000000                 1.0  "
            ],
            "text/html": [
              "\n",
              "  <div id=\"df-7bb95783-5121-42ab-bb1f-6169823983c8\" class=\"colab-df-container\">\n",
              "    <div>\n",
              "<style scoped>\n",
              "    .dataframe tbody tr th:only-of-type {\n",
              "        vertical-align: middle;\n",
              "    }\n",
              "\n",
              "    .dataframe tbody tr th {\n",
              "        vertical-align: top;\n",
              "    }\n",
              "\n",
              "    .dataframe thead th {\n",
              "        text-align: right;\n",
              "    }\n",
              "</style>\n",
              "<table border=\"1\" class=\"dataframe\">\n",
              "  <thead>\n",
              "    <tr style=\"text-align: right;\">\n",
              "      <th></th>\n",
              "      <th>Zip</th>\n",
              "      <th>Estimated PV System Size (kWdc)</th>\n",
              "      <th>PV System Size (kWac)</th>\n",
              "      <th>Estimated Annual PV Energy Production (kWh)</th>\n",
              "      <th>Energy Storage System Size (kWac)</th>\n",
              "      <th>Number of Projects</th>\n",
              "    </tr>\n",
              "  </thead>\n",
              "  <tbody>\n",
              "    <tr>\n",
              "      <th>count</th>\n",
              "      <td>218019.000000</td>\n",
              "      <td>218115.000000</td>\n",
              "      <td>218115.000000</td>\n",
              "      <td>2.181150e+05</td>\n",
              "      <td>4091.000000</td>\n",
              "      <td>218115.0</td>\n",
              "    </tr>\n",
              "    <tr>\n",
              "      <th>mean</th>\n",
              "      <td>11751.734473</td>\n",
              "      <td>24.507977</td>\n",
              "      <td>19.065451</td>\n",
              "      <td>2.876828e+04</td>\n",
              "      <td>32.174727</td>\n",
              "      <td>1.0</td>\n",
              "    </tr>\n",
              "    <tr>\n",
              "      <th>std</th>\n",
              "      <td>962.129108</td>\n",
              "      <td>291.525394</td>\n",
              "      <td>211.419642</td>\n",
              "      <td>3.422042e+05</td>\n",
              "      <td>296.161116</td>\n",
              "      <td>0.0</td>\n",
              "    </tr>\n",
              "    <tr>\n",
              "      <th>min</th>\n",
              "      <td>10001.000000</td>\n",
              "      <td>0.010000</td>\n",
              "      <td>0.010000</td>\n",
              "      <td>1.400000e+01</td>\n",
              "      <td>0.350000</td>\n",
              "      <td>1.0</td>\n",
              "    </tr>\n",
              "    <tr>\n",
              "      <th>25%</th>\n",
              "      <td>11220.000000</td>\n",
              "      <td>5.270000</td>\n",
              "      <td>4.500000</td>\n",
              "      <td>6.180000e+03</td>\n",
              "      <td>5.000000</td>\n",
              "      <td>1.0</td>\n",
              "    </tr>\n",
              "    <tr>\n",
              "      <th>50%</th>\n",
              "      <td>11717.000000</td>\n",
              "      <td>7.130000</td>\n",
              "      <td>6.090000</td>\n",
              "      <td>8.364000e+03</td>\n",
              "      <td>7.600000</td>\n",
              "      <td>1.0</td>\n",
              "    </tr>\n",
              "    <tr>\n",
              "      <th>75%</th>\n",
              "      <td>12018.000000</td>\n",
              "      <td>10.240000</td>\n",
              "      <td>8.750000</td>\n",
              "      <td>1.201700e+04</td>\n",
              "      <td>10.000000</td>\n",
              "      <td>1.0</td>\n",
              "    </tr>\n",
              "    <tr>\n",
              "      <th>max</th>\n",
              "      <td>14905.000000</td>\n",
              "      <td>43470.000000</td>\n",
              "      <td>31500.000000</td>\n",
              "      <td>5.102682e+07</td>\n",
              "      <td>5000.000000</td>\n",
              "      <td>1.0</td>\n",
              "    </tr>\n",
              "  </tbody>\n",
              "</table>\n",
              "</div>\n",
              "    <div class=\"colab-df-buttons\">\n",
              "\n",
              "  <div class=\"colab-df-container\">\n",
              "    <button class=\"colab-df-convert\" onclick=\"convertToInteractive('df-7bb95783-5121-42ab-bb1f-6169823983c8')\"\n",
              "            title=\"Convert this dataframe to an interactive table.\"\n",
              "            style=\"display:none;\">\n",
              "\n",
              "  <svg xmlns=\"http://www.w3.org/2000/svg\" height=\"24px\" viewBox=\"0 -960 960 960\">\n",
              "    <path d=\"M120-120v-720h720v720H120Zm60-500h600v-160H180v160Zm220 220h160v-160H400v160Zm0 220h160v-160H400v160ZM180-400h160v-160H180v160Zm440 0h160v-160H620v160ZM180-180h160v-160H180v160Zm440 0h160v-160H620v160Z\"/>\n",
              "  </svg>\n",
              "    </button>\n",
              "\n",
              "  <style>\n",
              "    .colab-df-container {\n",
              "      display:flex;\n",
              "      gap: 12px;\n",
              "    }\n",
              "\n",
              "    .colab-df-convert {\n",
              "      background-color: #E8F0FE;\n",
              "      border: none;\n",
              "      border-radius: 50%;\n",
              "      cursor: pointer;\n",
              "      display: none;\n",
              "      fill: #1967D2;\n",
              "      height: 32px;\n",
              "      padding: 0 0 0 0;\n",
              "      width: 32px;\n",
              "    }\n",
              "\n",
              "    .colab-df-convert:hover {\n",
              "      background-color: #E2EBFA;\n",
              "      box-shadow: 0px 1px 2px rgba(60, 64, 67, 0.3), 0px 1px 3px 1px rgba(60, 64, 67, 0.15);\n",
              "      fill: #174EA6;\n",
              "    }\n",
              "\n",
              "    .colab-df-buttons div {\n",
              "      margin-bottom: 4px;\n",
              "    }\n",
              "\n",
              "    [theme=dark] .colab-df-convert {\n",
              "      background-color: #3B4455;\n",
              "      fill: #D2E3FC;\n",
              "    }\n",
              "\n",
              "    [theme=dark] .colab-df-convert:hover {\n",
              "      background-color: #434B5C;\n",
              "      box-shadow: 0px 1px 3px 1px rgba(0, 0, 0, 0.15);\n",
              "      filter: drop-shadow(0px 1px 2px rgba(0, 0, 0, 0.3));\n",
              "      fill: #FFFFFF;\n",
              "    }\n",
              "  </style>\n",
              "\n",
              "    <script>\n",
              "      const buttonEl =\n",
              "        document.querySelector('#df-7bb95783-5121-42ab-bb1f-6169823983c8 button.colab-df-convert');\n",
              "      buttonEl.style.display =\n",
              "        google.colab.kernel.accessAllowed ? 'block' : 'none';\n",
              "\n",
              "      async function convertToInteractive(key) {\n",
              "        const element = document.querySelector('#df-7bb95783-5121-42ab-bb1f-6169823983c8');\n",
              "        const dataTable =\n",
              "          await google.colab.kernel.invokeFunction('convertToInteractive',\n",
              "                                                    [key], {});\n",
              "        if (!dataTable) return;\n",
              "\n",
              "        const docLinkHtml = 'Like what you see? Visit the ' +\n",
              "          '<a target=\"_blank\" href=https://colab.research.google.com/notebooks/data_table.ipynb>data table notebook</a>'\n",
              "          + ' to learn more about interactive tables.';\n",
              "        element.innerHTML = '';\n",
              "        dataTable['output_type'] = 'display_data';\n",
              "        await google.colab.output.renderOutput(dataTable, element);\n",
              "        const docLink = document.createElement('div');\n",
              "        docLink.innerHTML = docLinkHtml;\n",
              "        element.appendChild(docLink);\n",
              "      }\n",
              "    </script>\n",
              "  </div>\n",
              "\n",
              "\n",
              "<div id=\"df-1968b4a0-faa7-4144-a9d0-5858048ba539\">\n",
              "  <button class=\"colab-df-quickchart\" onclick=\"quickchart('df-1968b4a0-faa7-4144-a9d0-5858048ba539')\"\n",
              "            title=\"Suggest charts\"\n",
              "            style=\"display:none;\">\n",
              "\n",
              "<svg xmlns=\"http://www.w3.org/2000/svg\" height=\"24px\"viewBox=\"0 0 24 24\"\n",
              "     width=\"24px\">\n",
              "    <g>\n",
              "        <path d=\"M19 3H5c-1.1 0-2 .9-2 2v14c0 1.1.9 2 2 2h14c1.1 0 2-.9 2-2V5c0-1.1-.9-2-2-2zM9 17H7v-7h2v7zm4 0h-2V7h2v10zm4 0h-2v-4h2v4z\"/>\n",
              "    </g>\n",
              "</svg>\n",
              "  </button>\n",
              "\n",
              "<style>\n",
              "  .colab-df-quickchart {\n",
              "      --bg-color: #E8F0FE;\n",
              "      --fill-color: #1967D2;\n",
              "      --hover-bg-color: #E2EBFA;\n",
              "      --hover-fill-color: #174EA6;\n",
              "      --disabled-fill-color: #AAA;\n",
              "      --disabled-bg-color: #DDD;\n",
              "  }\n",
              "\n",
              "  [theme=dark] .colab-df-quickchart {\n",
              "      --bg-color: #3B4455;\n",
              "      --fill-color: #D2E3FC;\n",
              "      --hover-bg-color: #434B5C;\n",
              "      --hover-fill-color: #FFFFFF;\n",
              "      --disabled-bg-color: #3B4455;\n",
              "      --disabled-fill-color: #666;\n",
              "  }\n",
              "\n",
              "  .colab-df-quickchart {\n",
              "    background-color: var(--bg-color);\n",
              "    border: none;\n",
              "    border-radius: 50%;\n",
              "    cursor: pointer;\n",
              "    display: none;\n",
              "    fill: var(--fill-color);\n",
              "    height: 32px;\n",
              "    padding: 0;\n",
              "    width: 32px;\n",
              "  }\n",
              "\n",
              "  .colab-df-quickchart:hover {\n",
              "    background-color: var(--hover-bg-color);\n",
              "    box-shadow: 0 1px 2px rgba(60, 64, 67, 0.3), 0 1px 3px 1px rgba(60, 64, 67, 0.15);\n",
              "    fill: var(--button-hover-fill-color);\n",
              "  }\n",
              "\n",
              "  .colab-df-quickchart-complete:disabled,\n",
              "  .colab-df-quickchart-complete:disabled:hover {\n",
              "    background-color: var(--disabled-bg-color);\n",
              "    fill: var(--disabled-fill-color);\n",
              "    box-shadow: none;\n",
              "  }\n",
              "\n",
              "  .colab-df-spinner {\n",
              "    border: 2px solid var(--fill-color);\n",
              "    border-color: transparent;\n",
              "    border-bottom-color: var(--fill-color);\n",
              "    animation:\n",
              "      spin 1s steps(1) infinite;\n",
              "  }\n",
              "\n",
              "  @keyframes spin {\n",
              "    0% {\n",
              "      border-color: transparent;\n",
              "      border-bottom-color: var(--fill-color);\n",
              "      border-left-color: var(--fill-color);\n",
              "    }\n",
              "    20% {\n",
              "      border-color: transparent;\n",
              "      border-left-color: var(--fill-color);\n",
              "      border-top-color: var(--fill-color);\n",
              "    }\n",
              "    30% {\n",
              "      border-color: transparent;\n",
              "      border-left-color: var(--fill-color);\n",
              "      border-top-color: var(--fill-color);\n",
              "      border-right-color: var(--fill-color);\n",
              "    }\n",
              "    40% {\n",
              "      border-color: transparent;\n",
              "      border-right-color: var(--fill-color);\n",
              "      border-top-color: var(--fill-color);\n",
              "    }\n",
              "    60% {\n",
              "      border-color: transparent;\n",
              "      border-right-color: var(--fill-color);\n",
              "    }\n",
              "    80% {\n",
              "      border-color: transparent;\n",
              "      border-right-color: var(--fill-color);\n",
              "      border-bottom-color: var(--fill-color);\n",
              "    }\n",
              "    90% {\n",
              "      border-color: transparent;\n",
              "      border-bottom-color: var(--fill-color);\n",
              "    }\n",
              "  }\n",
              "</style>\n",
              "\n",
              "  <script>\n",
              "    async function quickchart(key) {\n",
              "      const quickchartButtonEl =\n",
              "        document.querySelector('#' + key + ' button');\n",
              "      quickchartButtonEl.disabled = true;  // To prevent multiple clicks.\n",
              "      quickchartButtonEl.classList.add('colab-df-spinner');\n",
              "      try {\n",
              "        const charts = await google.colab.kernel.invokeFunction(\n",
              "            'suggestCharts', [key], {});\n",
              "      } catch (error) {\n",
              "        console.error('Error during call to suggestCharts:', error);\n",
              "      }\n",
              "      quickchartButtonEl.classList.remove('colab-df-spinner');\n",
              "      quickchartButtonEl.classList.add('colab-df-quickchart-complete');\n",
              "    }\n",
              "    (() => {\n",
              "      let quickchartButtonEl =\n",
              "        document.querySelector('#df-1968b4a0-faa7-4144-a9d0-5858048ba539 button');\n",
              "      quickchartButtonEl.style.display =\n",
              "        google.colab.kernel.accessAllowed ? 'block' : 'none';\n",
              "    })();\n",
              "  </script>\n",
              "</div>\n",
              "\n",
              "    </div>\n",
              "  </div>\n"
            ],
            "application/vnd.google.colaboratory.intrinsic+json": {
              "type": "dataframe",
              "summary": "{\n  \"name\": \"df\",\n  \"rows\": 8,\n  \"fields\": [\n    {\n      \"column\": \"Zip\",\n      \"properties\": {\n        \"dtype\": \"number\",\n        \"std\": 73528.9077862372,\n        \"min\": 962.1291084876598,\n        \"max\": 218019.0,\n        \"num_unique_values\": 8,\n        \"samples\": [\n          11751.734472683573,\n          11717.0,\n          218019.0\n        ],\n        \"semantic_type\": \"\",\n        \"description\": \"\"\n      }\n    },\n    {\n      \"column\": \"Estimated PV System Size (kWdc)\",\n      \"properties\": {\n        \"dtype\": \"number\",\n        \"std\": 76427.72300618405,\n        \"min\": 0.01,\n        \"max\": 218115.0,\n        \"num_unique_values\": 8,\n        \"samples\": [\n          24.507976801228708,\n          7.13,\n          218115.0\n        ],\n        \"semantic_type\": \"\",\n        \"description\": \"\"\n      }\n    },\n    {\n      \"column\": \"PV System Size (kWac)\",\n      \"properties\": {\n        \"dtype\": \"number\",\n        \"std\": 76309.88884019977,\n        \"min\": 0.01,\n        \"max\": 218115.0,\n        \"num_unique_values\": 8,\n        \"samples\": [\n          19.0654512527795,\n          6.09,\n          218115.0\n        ],\n        \"semantic_type\": \"\",\n        \"description\": \"\"\n      }\n    },\n    {\n      \"column\": \"Estimated Annual PV Energy Production (kWh)\",\n      \"properties\": {\n        \"dtype\": \"number\",\n        \"std\": 18010053.992938507,\n        \"min\": 14.0,\n        \"max\": 51026825.0,\n        \"num_unique_values\": 8,\n        \"samples\": [\n          28768.27859156867,\n          8364.0,\n          218115.0\n        ],\n        \"semantic_type\": \"\",\n        \"description\": \"\"\n      }\n    },\n    {\n      \"column\": \"Energy Storage System Size (kWac)\",\n      \"properties\": {\n        \"dtype\": \"number\",\n        \"std\": 2093.5484319604016,\n        \"min\": 0.35,\n        \"max\": 5000.0,\n        \"num_unique_values\": 8,\n        \"samples\": [\n          32.1747274505011,\n          7.6,\n          4091.0\n        ],\n        \"semantic_type\": \"\",\n        \"description\": \"\"\n      }\n    },\n    {\n      \"column\": \"Number of Projects\",\n      \"properties\": {\n        \"dtype\": \"number\",\n        \"std\": 77114.99474428248,\n        \"min\": 0.0,\n        \"max\": 218115.0,\n        \"num_unique_values\": 3,\n        \"samples\": [\n          218115.0,\n          1.0,\n          0.0\n        ],\n        \"semantic_type\": \"\",\n        \"description\": \"\"\n      }\n    }\n  ]\n}"
            }
          },
          "metadata": {},
          "execution_count": 12
        }
      ]
    },
    {
      "cell_type": "code",
      "source": [
        "df.isnull().sum()"
      ],
      "metadata": {
        "colab": {
          "base_uri": "https://localhost:8080/",
          "height": 617
        },
        "id": "BBs1KMIyGHAX",
        "outputId": "5735f659-fce1-4243-e0b2-7668fa2720a6"
      },
      "execution_count": 13,
      "outputs": [
        {
          "output_type": "execute_result",
          "data": {
            "text/plain": [
              "Data Through Date                                   0\n",
              "Project ID                                          3\n",
              "Interconnection Date                                0\n",
              "Utility                                             0\n",
              "City/Town                                          58\n",
              "County                                              0\n",
              "Zip                                                96\n",
              "Division                                        85234\n",
              "Substation                                      79944\n",
              "Circuit ID                                         30\n",
              "Developer                                       10550\n",
              "Metering Method                                   463\n",
              "Estimated PV System Size (kWdc)                     0\n",
              "PV System Size (kWac)                               0\n",
              "Estimated Annual PV Energy Production (kWh)         0\n",
              "Energy Storage System Size (kWac)              214024\n",
              "Number of Projects                                  0\n",
              "dtype: int64"
            ],
            "text/html": [
              "<div>\n",
              "<style scoped>\n",
              "    .dataframe tbody tr th:only-of-type {\n",
              "        vertical-align: middle;\n",
              "    }\n",
              "\n",
              "    .dataframe tbody tr th {\n",
              "        vertical-align: top;\n",
              "    }\n",
              "\n",
              "    .dataframe thead th {\n",
              "        text-align: right;\n",
              "    }\n",
              "</style>\n",
              "<table border=\"1\" class=\"dataframe\">\n",
              "  <thead>\n",
              "    <tr style=\"text-align: right;\">\n",
              "      <th></th>\n",
              "      <th>0</th>\n",
              "    </tr>\n",
              "  </thead>\n",
              "  <tbody>\n",
              "    <tr>\n",
              "      <th>Data Through Date</th>\n",
              "      <td>0</td>\n",
              "    </tr>\n",
              "    <tr>\n",
              "      <th>Project ID</th>\n",
              "      <td>3</td>\n",
              "    </tr>\n",
              "    <tr>\n",
              "      <th>Interconnection Date</th>\n",
              "      <td>0</td>\n",
              "    </tr>\n",
              "    <tr>\n",
              "      <th>Utility</th>\n",
              "      <td>0</td>\n",
              "    </tr>\n",
              "    <tr>\n",
              "      <th>City/Town</th>\n",
              "      <td>58</td>\n",
              "    </tr>\n",
              "    <tr>\n",
              "      <th>County</th>\n",
              "      <td>0</td>\n",
              "    </tr>\n",
              "    <tr>\n",
              "      <th>Zip</th>\n",
              "      <td>96</td>\n",
              "    </tr>\n",
              "    <tr>\n",
              "      <th>Division</th>\n",
              "      <td>85234</td>\n",
              "    </tr>\n",
              "    <tr>\n",
              "      <th>Substation</th>\n",
              "      <td>79944</td>\n",
              "    </tr>\n",
              "    <tr>\n",
              "      <th>Circuit ID</th>\n",
              "      <td>30</td>\n",
              "    </tr>\n",
              "    <tr>\n",
              "      <th>Developer</th>\n",
              "      <td>10550</td>\n",
              "    </tr>\n",
              "    <tr>\n",
              "      <th>Metering Method</th>\n",
              "      <td>463</td>\n",
              "    </tr>\n",
              "    <tr>\n",
              "      <th>Estimated PV System Size (kWdc)</th>\n",
              "      <td>0</td>\n",
              "    </tr>\n",
              "    <tr>\n",
              "      <th>PV System Size (kWac)</th>\n",
              "      <td>0</td>\n",
              "    </tr>\n",
              "    <tr>\n",
              "      <th>Estimated Annual PV Energy Production (kWh)</th>\n",
              "      <td>0</td>\n",
              "    </tr>\n",
              "    <tr>\n",
              "      <th>Energy Storage System Size (kWac)</th>\n",
              "      <td>214024</td>\n",
              "    </tr>\n",
              "    <tr>\n",
              "      <th>Number of Projects</th>\n",
              "      <td>0</td>\n",
              "    </tr>\n",
              "  </tbody>\n",
              "</table>\n",
              "</div><br><label><b>dtype:</b> int64</label>"
            ]
          },
          "metadata": {},
          "execution_count": 13
        }
      ]
    },
    {
      "cell_type": "code",
      "source": [
        "columns_to_drop = ['Project ID','Zip','Circuit ID','Energy Storage System Size (kWac)','Division','Substation']\n",
        "df = df.drop(columns=columns_to_drop)"
      ],
      "metadata": {
        "id": "OTEgs4Y2GHwZ"
      },
      "execution_count": 14,
      "outputs": []
    },
    {
      "cell_type": "markdown",
      "source": [
        "*I have dropped the 'Project ID','Zip','Circuit ID','Energy Storage System Size (kWac)','Division',and substation column because some of the columns has largest number of null values and some of the columns are not relevant for the analysis*"
      ],
      "metadata": {
        "id": "mkr1PuzJGt_y"
      }
    },
    {
      "cell_type": "code",
      "source": [
        "df.isnull().sum()"
      ],
      "metadata": {
        "colab": {
          "base_uri": "https://localhost:8080/",
          "height": 429
        },
        "id": "rtZcRBNHHWTJ",
        "outputId": "47a7b3a4-b014-432e-cbaa-dfbf979753e0"
      },
      "execution_count": 15,
      "outputs": [
        {
          "output_type": "execute_result",
          "data": {
            "text/plain": [
              "Data Through Date                                  0\n",
              "Interconnection Date                               0\n",
              "Utility                                            0\n",
              "City/Town                                         58\n",
              "County                                             0\n",
              "Developer                                      10550\n",
              "Metering Method                                  463\n",
              "Estimated PV System Size (kWdc)                    0\n",
              "PV System Size (kWac)                              0\n",
              "Estimated Annual PV Energy Production (kWh)        0\n",
              "Number of Projects                                 0\n",
              "dtype: int64"
            ],
            "text/html": [
              "<div>\n",
              "<style scoped>\n",
              "    .dataframe tbody tr th:only-of-type {\n",
              "        vertical-align: middle;\n",
              "    }\n",
              "\n",
              "    .dataframe tbody tr th {\n",
              "        vertical-align: top;\n",
              "    }\n",
              "\n",
              "    .dataframe thead th {\n",
              "        text-align: right;\n",
              "    }\n",
              "</style>\n",
              "<table border=\"1\" class=\"dataframe\">\n",
              "  <thead>\n",
              "    <tr style=\"text-align: right;\">\n",
              "      <th></th>\n",
              "      <th>0</th>\n",
              "    </tr>\n",
              "  </thead>\n",
              "  <tbody>\n",
              "    <tr>\n",
              "      <th>Data Through Date</th>\n",
              "      <td>0</td>\n",
              "    </tr>\n",
              "    <tr>\n",
              "      <th>Interconnection Date</th>\n",
              "      <td>0</td>\n",
              "    </tr>\n",
              "    <tr>\n",
              "      <th>Utility</th>\n",
              "      <td>0</td>\n",
              "    </tr>\n",
              "    <tr>\n",
              "      <th>City/Town</th>\n",
              "      <td>58</td>\n",
              "    </tr>\n",
              "    <tr>\n",
              "      <th>County</th>\n",
              "      <td>0</td>\n",
              "    </tr>\n",
              "    <tr>\n",
              "      <th>Developer</th>\n",
              "      <td>10550</td>\n",
              "    </tr>\n",
              "    <tr>\n",
              "      <th>Metering Method</th>\n",
              "      <td>463</td>\n",
              "    </tr>\n",
              "    <tr>\n",
              "      <th>Estimated PV System Size (kWdc)</th>\n",
              "      <td>0</td>\n",
              "    </tr>\n",
              "    <tr>\n",
              "      <th>PV System Size (kWac)</th>\n",
              "      <td>0</td>\n",
              "    </tr>\n",
              "    <tr>\n",
              "      <th>Estimated Annual PV Energy Production (kWh)</th>\n",
              "      <td>0</td>\n",
              "    </tr>\n",
              "    <tr>\n",
              "      <th>Number of Projects</th>\n",
              "      <td>0</td>\n",
              "    </tr>\n",
              "  </tbody>\n",
              "</table>\n",
              "</div><br><label><b>dtype:</b> int64</label>"
            ]
          },
          "metadata": {},
          "execution_count": 15
        }
      ]
    },
    {
      "cell_type": "code",
      "source": [
        "df['Utility'].unique()"
      ],
      "metadata": {
        "colab": {
          "base_uri": "https://localhost:8080/"
        },
        "id": "jf4rodF_Haa2",
        "outputId": "f99ec9ca-af84-477a-d10f-55ba90ddee12"
      },
      "execution_count": 19,
      "outputs": [
        {
          "output_type": "execute_result",
          "data": {
            "text/plain": [
              "array(['Con Ed', 'PSEGLI', 'O&R', 'Central Hudson', 'National Grid',\n",
              "       'NYSEG', 'RGE'], dtype=object)"
            ]
          },
          "metadata": {},
          "execution_count": 19
        }
      ]
    },
    {
      "cell_type": "code",
      "source": [
        "df['City/Town'].nunique()"
      ],
      "metadata": {
        "colab": {
          "base_uri": "https://localhost:8080/"
        },
        "id": "Akvk_OquHhG1",
        "outputId": "40afed3a-c355-4503-f995-9b2decd652d4"
      },
      "execution_count": 20,
      "outputs": [
        {
          "output_type": "execute_result",
          "data": {
            "text/plain": [
              "3009"
            ]
          },
          "metadata": {},
          "execution_count": 20
        }
      ]
    },
    {
      "cell_type": "code",
      "source": [
        "df['County'].nunique()"
      ],
      "metadata": {
        "colab": {
          "base_uri": "https://localhost:8080/"
        },
        "id": "GOT88DHpH1ku",
        "outputId": "6c9eaf4f-cd3d-4199-91e7-3db45b14cb7c"
      },
      "execution_count": 21,
      "outputs": [
        {
          "output_type": "execute_result",
          "data": {
            "text/plain": [
              "62"
            ]
          },
          "metadata": {},
          "execution_count": 21
        }
      ]
    },
    {
      "cell_type": "code",
      "source": [
        "df.duplicated().sum()"
      ],
      "metadata": {
        "colab": {
          "base_uri": "https://localhost:8080/"
        },
        "id": "sGfYdremH4vD",
        "outputId": "692615a8-4fb9-4308-89dc-b5d9c3655321"
      },
      "execution_count": 22,
      "outputs": [
        {
          "output_type": "execute_result",
          "data": {
            "text/plain": [
              "4763"
            ]
          },
          "metadata": {},
          "execution_count": 22
        }
      ]
    },
    {
      "cell_type": "code",
      "source": [
        "df.drop_duplicates(inplace=True)"
      ],
      "metadata": {
        "id": "7RIsQc2NH9om"
      },
      "execution_count": 23,
      "outputs": []
    },
    {
      "cell_type": "code",
      "source": [
        "df.duplicated().sum()"
      ],
      "metadata": {
        "colab": {
          "base_uri": "https://localhost:8080/"
        },
        "id": "R55KEmASIDIL",
        "outputId": "a16e4819-9e6d-4dde-a2b7-dfc147385f8c"
      },
      "execution_count": 24,
      "outputs": [
        {
          "output_type": "execute_result",
          "data": {
            "text/plain": [
              "0"
            ]
          },
          "metadata": {},
          "execution_count": 24
        }
      ]
    },
    {
      "cell_type": "code",
      "source": [
        "df['County'].value_counts().head(5)"
      ],
      "metadata": {
        "colab": {
          "base_uri": "https://localhost:8080/",
          "height": 272
        },
        "id": "ndCbv7sEIGlQ",
        "outputId": "9c92756b-b217-4dad-d344-4214ef84d7e1"
      },
      "execution_count": 25,
      "outputs": [
        {
          "output_type": "execute_result",
          "data": {
            "text/plain": [
              "County\n",
              "Suffolk        51383\n",
              "Nassau         31985\n",
              "Queens         22535\n",
              "Westchester    12212\n",
              "Richmond       11397\n",
              "Name: count, dtype: int64"
            ],
            "text/html": [
              "<div>\n",
              "<style scoped>\n",
              "    .dataframe tbody tr th:only-of-type {\n",
              "        vertical-align: middle;\n",
              "    }\n",
              "\n",
              "    .dataframe tbody tr th {\n",
              "        vertical-align: top;\n",
              "    }\n",
              "\n",
              "    .dataframe thead th {\n",
              "        text-align: right;\n",
              "    }\n",
              "</style>\n",
              "<table border=\"1\" class=\"dataframe\">\n",
              "  <thead>\n",
              "    <tr style=\"text-align: right;\">\n",
              "      <th></th>\n",
              "      <th>count</th>\n",
              "    </tr>\n",
              "    <tr>\n",
              "      <th>County</th>\n",
              "      <th></th>\n",
              "    </tr>\n",
              "  </thead>\n",
              "  <tbody>\n",
              "    <tr>\n",
              "      <th>Suffolk</th>\n",
              "      <td>51383</td>\n",
              "    </tr>\n",
              "    <tr>\n",
              "      <th>Nassau</th>\n",
              "      <td>31985</td>\n",
              "    </tr>\n",
              "    <tr>\n",
              "      <th>Queens</th>\n",
              "      <td>22535</td>\n",
              "    </tr>\n",
              "    <tr>\n",
              "      <th>Westchester</th>\n",
              "      <td>12212</td>\n",
              "    </tr>\n",
              "    <tr>\n",
              "      <th>Richmond</th>\n",
              "      <td>11397</td>\n",
              "    </tr>\n",
              "  </tbody>\n",
              "</table>\n",
              "</div><br><label><b>dtype:</b> int64</label>"
            ]
          },
          "metadata": {},
          "execution_count": 25
        }
      ]
    },
    {
      "cell_type": "code",
      "source": [
        "df['City/Town'].value_counts().head(5)"
      ],
      "metadata": {
        "colab": {
          "base_uri": "https://localhost:8080/",
          "height": 272
        },
        "id": "JNY_XlXoIOq4",
        "outputId": "72bce2fa-f7a5-44b2-95af-6a18dee898be"
      },
      "execution_count": 27,
      "outputs": [
        {
          "output_type": "execute_result",
          "data": {
            "text/plain": [
              "City/Town\n",
              "STATEN ISLAND    6207\n",
              "BROOKLYN         5767\n",
              "Brooklyn         5356\n",
              "Staten Island    5015\n",
              "Jamaica          3277\n",
              "Name: count, dtype: int64"
            ],
            "text/html": [
              "<div>\n",
              "<style scoped>\n",
              "    .dataframe tbody tr th:only-of-type {\n",
              "        vertical-align: middle;\n",
              "    }\n",
              "\n",
              "    .dataframe tbody tr th {\n",
              "        vertical-align: top;\n",
              "    }\n",
              "\n",
              "    .dataframe thead th {\n",
              "        text-align: right;\n",
              "    }\n",
              "</style>\n",
              "<table border=\"1\" class=\"dataframe\">\n",
              "  <thead>\n",
              "    <tr style=\"text-align: right;\">\n",
              "      <th></th>\n",
              "      <th>count</th>\n",
              "    </tr>\n",
              "    <tr>\n",
              "      <th>City/Town</th>\n",
              "      <th></th>\n",
              "    </tr>\n",
              "  </thead>\n",
              "  <tbody>\n",
              "    <tr>\n",
              "      <th>STATEN ISLAND</th>\n",
              "      <td>6207</td>\n",
              "    </tr>\n",
              "    <tr>\n",
              "      <th>BROOKLYN</th>\n",
              "      <td>5767</td>\n",
              "    </tr>\n",
              "    <tr>\n",
              "      <th>Brooklyn</th>\n",
              "      <td>5356</td>\n",
              "    </tr>\n",
              "    <tr>\n",
              "      <th>Staten Island</th>\n",
              "      <td>5015</td>\n",
              "    </tr>\n",
              "    <tr>\n",
              "      <th>Jamaica</th>\n",
              "      <td>3277</td>\n",
              "    </tr>\n",
              "  </tbody>\n",
              "</table>\n",
              "</div><br><label><b>dtype:</b> int64</label>"
            ]
          },
          "metadata": {},
          "execution_count": 27
        }
      ]
    },
    {
      "cell_type": "code",
      "source": [
        "df['City/Town'] = df['City/Town'].apply(lambda x: str(x).lower())"
      ],
      "metadata": {
        "id": "0oczyRiqIY46"
      },
      "execution_count": 28,
      "outputs": []
    },
    {
      "cell_type": "code",
      "source": [
        "df = df.dropna(subset=['City/Town'])"
      ],
      "metadata": {
        "id": "WSEmP0NRIblj"
      },
      "execution_count": 29,
      "outputs": []
    },
    {
      "cell_type": "code",
      "source": [
        "df.isnull().sum()"
      ],
      "metadata": {
        "colab": {
          "base_uri": "https://localhost:8080/",
          "height": 429
        },
        "id": "oofsYV6QIu-x",
        "outputId": "be8d86d4-ab46-4f71-a2f1-18f2887aa12e"
      },
      "execution_count": 30,
      "outputs": [
        {
          "output_type": "execute_result",
          "data": {
            "text/plain": [
              "Data Through Date                                  0\n",
              "Interconnection Date                               0\n",
              "Utility                                            0\n",
              "City/Town                                          0\n",
              "County                                             0\n",
              "Developer                                      10429\n",
              "Metering Method                                  444\n",
              "Estimated PV System Size (kWdc)                    0\n",
              "PV System Size (kWac)                              0\n",
              "Estimated Annual PV Energy Production (kWh)        0\n",
              "Number of Projects                                 0\n",
              "dtype: int64"
            ],
            "text/html": [
              "<div>\n",
              "<style scoped>\n",
              "    .dataframe tbody tr th:only-of-type {\n",
              "        vertical-align: middle;\n",
              "    }\n",
              "\n",
              "    .dataframe tbody tr th {\n",
              "        vertical-align: top;\n",
              "    }\n",
              "\n",
              "    .dataframe thead th {\n",
              "        text-align: right;\n",
              "    }\n",
              "</style>\n",
              "<table border=\"1\" class=\"dataframe\">\n",
              "  <thead>\n",
              "    <tr style=\"text-align: right;\">\n",
              "      <th></th>\n",
              "      <th>0</th>\n",
              "    </tr>\n",
              "  </thead>\n",
              "  <tbody>\n",
              "    <tr>\n",
              "      <th>Data Through Date</th>\n",
              "      <td>0</td>\n",
              "    </tr>\n",
              "    <tr>\n",
              "      <th>Interconnection Date</th>\n",
              "      <td>0</td>\n",
              "    </tr>\n",
              "    <tr>\n",
              "      <th>Utility</th>\n",
              "      <td>0</td>\n",
              "    </tr>\n",
              "    <tr>\n",
              "      <th>City/Town</th>\n",
              "      <td>0</td>\n",
              "    </tr>\n",
              "    <tr>\n",
              "      <th>County</th>\n",
              "      <td>0</td>\n",
              "    </tr>\n",
              "    <tr>\n",
              "      <th>Developer</th>\n",
              "      <td>10429</td>\n",
              "    </tr>\n",
              "    <tr>\n",
              "      <th>Metering Method</th>\n",
              "      <td>444</td>\n",
              "    </tr>\n",
              "    <tr>\n",
              "      <th>Estimated PV System Size (kWdc)</th>\n",
              "      <td>0</td>\n",
              "    </tr>\n",
              "    <tr>\n",
              "      <th>PV System Size (kWac)</th>\n",
              "      <td>0</td>\n",
              "    </tr>\n",
              "    <tr>\n",
              "      <th>Estimated Annual PV Energy Production (kWh)</th>\n",
              "      <td>0</td>\n",
              "    </tr>\n",
              "    <tr>\n",
              "      <th>Number of Projects</th>\n",
              "      <td>0</td>\n",
              "    </tr>\n",
              "  </tbody>\n",
              "</table>\n",
              "</div><br><label><b>dtype:</b> int64</label>"
            ]
          },
          "metadata": {},
          "execution_count": 30
        }
      ]
    },
    {
      "cell_type": "code",
      "source": [
        "df['Developer'].nunique()"
      ],
      "metadata": {
        "colab": {
          "base_uri": "https://localhost:8080/"
        },
        "id": "025oQcp_I7ly",
        "outputId": "eb338197-4191-48d7-9f6c-cc4e75a6e5c9"
      },
      "execution_count": 31,
      "outputs": [
        {
          "output_type": "execute_result",
          "data": {
            "text/plain": [
              "2567"
            ]
          },
          "metadata": {},
          "execution_count": 31
        }
      ]
    },
    {
      "cell_type": "code",
      "source": [
        "df['Developer'].value_counts().head(5)"
      ],
      "metadata": {
        "colab": {
          "base_uri": "https://localhost:8080/",
          "height": 272
        },
        "id": "YJABKMJcI8i2",
        "outputId": "1eaafeee-ab86-43c0-c900-62c014f77a04"
      },
      "execution_count": 32,
      "outputs": [
        {
          "output_type": "execute_result",
          "data": {
            "text/plain": [
              "Developer\n",
              "Vivint Solar      12694\n",
              "MOMENTUM SOLAR    12436\n",
              "Sunrun Inc        11437\n",
              "Solar City        11326\n",
              "Other              6262\n",
              "Name: count, dtype: int64"
            ],
            "text/html": [
              "<div>\n",
              "<style scoped>\n",
              "    .dataframe tbody tr th:only-of-type {\n",
              "        vertical-align: middle;\n",
              "    }\n",
              "\n",
              "    .dataframe tbody tr th {\n",
              "        vertical-align: top;\n",
              "    }\n",
              "\n",
              "    .dataframe thead th {\n",
              "        text-align: right;\n",
              "    }\n",
              "</style>\n",
              "<table border=\"1\" class=\"dataframe\">\n",
              "  <thead>\n",
              "    <tr style=\"text-align: right;\">\n",
              "      <th></th>\n",
              "      <th>count</th>\n",
              "    </tr>\n",
              "    <tr>\n",
              "      <th>Developer</th>\n",
              "      <th></th>\n",
              "    </tr>\n",
              "  </thead>\n",
              "  <tbody>\n",
              "    <tr>\n",
              "      <th>Vivint Solar</th>\n",
              "      <td>12694</td>\n",
              "    </tr>\n",
              "    <tr>\n",
              "      <th>MOMENTUM SOLAR</th>\n",
              "      <td>12436</td>\n",
              "    </tr>\n",
              "    <tr>\n",
              "      <th>Sunrun Inc</th>\n",
              "      <td>11437</td>\n",
              "    </tr>\n",
              "    <tr>\n",
              "      <th>Solar City</th>\n",
              "      <td>11326</td>\n",
              "    </tr>\n",
              "    <tr>\n",
              "      <th>Other</th>\n",
              "      <td>6262</td>\n",
              "    </tr>\n",
              "  </tbody>\n",
              "</table>\n",
              "</div><br><label><b>dtype:</b> int64</label>"
            ]
          },
          "metadata": {},
          "execution_count": 32
        }
      ]
    },
    {
      "cell_type": "code",
      "source": [
        "import random\n",
        "df['Developer'].fillna(random.choice(df['Developer'].dropna().unique()), inplace=True)"
      ],
      "metadata": {
        "id": "U4yy6GxiI_XF"
      },
      "execution_count": 33,
      "outputs": []
    },
    {
      "cell_type": "markdown",
      "source": [
        "*The provided code fills missing values in the 'Developer' column of the DataFrame df with a randomly chosen non-null value from the existing unique values in the 'Developer' column.*"
      ],
      "metadata": {
        "id": "-SSS7NULJEth"
      }
    },
    {
      "cell_type": "code",
      "source": [
        "df.isnull().sum()"
      ],
      "metadata": {
        "colab": {
          "base_uri": "https://localhost:8080/",
          "height": 429
        },
        "id": "EPx5_s0iJMnn",
        "outputId": "15efc17c-7d03-4986-d284-c4d615997b4c"
      },
      "execution_count": 34,
      "outputs": [
        {
          "output_type": "execute_result",
          "data": {
            "text/plain": [
              "Data Through Date                                0\n",
              "Interconnection Date                             0\n",
              "Utility                                          0\n",
              "City/Town                                        0\n",
              "County                                           0\n",
              "Developer                                        0\n",
              "Metering Method                                444\n",
              "Estimated PV System Size (kWdc)                  0\n",
              "PV System Size (kWac)                            0\n",
              "Estimated Annual PV Energy Production (kWh)      0\n",
              "Number of Projects                               0\n",
              "dtype: int64"
            ],
            "text/html": [
              "<div>\n",
              "<style scoped>\n",
              "    .dataframe tbody tr th:only-of-type {\n",
              "        vertical-align: middle;\n",
              "    }\n",
              "\n",
              "    .dataframe tbody tr th {\n",
              "        vertical-align: top;\n",
              "    }\n",
              "\n",
              "    .dataframe thead th {\n",
              "        text-align: right;\n",
              "    }\n",
              "</style>\n",
              "<table border=\"1\" class=\"dataframe\">\n",
              "  <thead>\n",
              "    <tr style=\"text-align: right;\">\n",
              "      <th></th>\n",
              "      <th>0</th>\n",
              "    </tr>\n",
              "  </thead>\n",
              "  <tbody>\n",
              "    <tr>\n",
              "      <th>Data Through Date</th>\n",
              "      <td>0</td>\n",
              "    </tr>\n",
              "    <tr>\n",
              "      <th>Interconnection Date</th>\n",
              "      <td>0</td>\n",
              "    </tr>\n",
              "    <tr>\n",
              "      <th>Utility</th>\n",
              "      <td>0</td>\n",
              "    </tr>\n",
              "    <tr>\n",
              "      <th>City/Town</th>\n",
              "      <td>0</td>\n",
              "    </tr>\n",
              "    <tr>\n",
              "      <th>County</th>\n",
              "      <td>0</td>\n",
              "    </tr>\n",
              "    <tr>\n",
              "      <th>Developer</th>\n",
              "      <td>0</td>\n",
              "    </tr>\n",
              "    <tr>\n",
              "      <th>Metering Method</th>\n",
              "      <td>444</td>\n",
              "    </tr>\n",
              "    <tr>\n",
              "      <th>Estimated PV System Size (kWdc)</th>\n",
              "      <td>0</td>\n",
              "    </tr>\n",
              "    <tr>\n",
              "      <th>PV System Size (kWac)</th>\n",
              "      <td>0</td>\n",
              "    </tr>\n",
              "    <tr>\n",
              "      <th>Estimated Annual PV Energy Production (kWh)</th>\n",
              "      <td>0</td>\n",
              "    </tr>\n",
              "    <tr>\n",
              "      <th>Number of Projects</th>\n",
              "      <td>0</td>\n",
              "    </tr>\n",
              "  </tbody>\n",
              "</table>\n",
              "</div><br><label><b>dtype:</b> int64</label>"
            ]
          },
          "metadata": {},
          "execution_count": 34
        }
      ]
    },
    {
      "cell_type": "code",
      "source": [
        "df['Metering Method'].nunique()"
      ],
      "metadata": {
        "colab": {
          "base_uri": "https://localhost:8080/"
        },
        "id": "ZFqSbQq6J7MX",
        "outputId": "ab901f94-3b92-4e43-dd42-8bcf30208757"
      },
      "execution_count": 35,
      "outputs": [
        {
          "output_type": "execute_result",
          "data": {
            "text/plain": [
              "6"
            ]
          },
          "metadata": {},
          "execution_count": 35
        }
      ]
    },
    {
      "cell_type": "code",
      "source": [
        "df['Metering Method'].value_counts()"
      ],
      "metadata": {
        "colab": {
          "base_uri": "https://localhost:8080/",
          "height": 303
        },
        "id": "M9fkLIhkJ7j9",
        "outputId": "f8b619ba-50d3-4d59-dfde-8c385718bc4d"
      },
      "execution_count": 36,
      "outputs": [
        {
          "output_type": "execute_result",
          "data": {
            "text/plain": [
              "Metering Method\n",
              "NM     210689\n",
              "RNM      1040\n",
              "CDG       996\n",
              "RC         91\n",
              "FIT        88\n",
              "RFP         4\n",
              "Name: count, dtype: int64"
            ],
            "text/html": [
              "<div>\n",
              "<style scoped>\n",
              "    .dataframe tbody tr th:only-of-type {\n",
              "        vertical-align: middle;\n",
              "    }\n",
              "\n",
              "    .dataframe tbody tr th {\n",
              "        vertical-align: top;\n",
              "    }\n",
              "\n",
              "    .dataframe thead th {\n",
              "        text-align: right;\n",
              "    }\n",
              "</style>\n",
              "<table border=\"1\" class=\"dataframe\">\n",
              "  <thead>\n",
              "    <tr style=\"text-align: right;\">\n",
              "      <th></th>\n",
              "      <th>count</th>\n",
              "    </tr>\n",
              "    <tr>\n",
              "      <th>Metering Method</th>\n",
              "      <th></th>\n",
              "    </tr>\n",
              "  </thead>\n",
              "  <tbody>\n",
              "    <tr>\n",
              "      <th>NM</th>\n",
              "      <td>210689</td>\n",
              "    </tr>\n",
              "    <tr>\n",
              "      <th>RNM</th>\n",
              "      <td>1040</td>\n",
              "    </tr>\n",
              "    <tr>\n",
              "      <th>CDG</th>\n",
              "      <td>996</td>\n",
              "    </tr>\n",
              "    <tr>\n",
              "      <th>RC</th>\n",
              "      <td>91</td>\n",
              "    </tr>\n",
              "    <tr>\n",
              "      <th>FIT</th>\n",
              "      <td>88</td>\n",
              "    </tr>\n",
              "    <tr>\n",
              "      <th>RFP</th>\n",
              "      <td>4</td>\n",
              "    </tr>\n",
              "  </tbody>\n",
              "</table>\n",
              "</div><br><label><b>dtype:</b> int64</label>"
            ]
          },
          "metadata": {},
          "execution_count": 36
        }
      ]
    },
    {
      "cell_type": "code",
      "source": [
        "df['Metering Method'].fillna(df['Metering Method'].mode()[0], inplace=True)"
      ],
      "metadata": {
        "id": "eI5hxDwiJ8jF"
      },
      "execution_count": 37,
      "outputs": []
    },
    {
      "cell_type": "code",
      "source": [
        "df.isnull().sum()"
      ],
      "metadata": {
        "colab": {
          "base_uri": "https://localhost:8080/",
          "height": 429
        },
        "id": "yoVw4e90KAdi",
        "outputId": "6224583a-8fbc-4c93-a8bb-dceb2f55e953"
      },
      "execution_count": 38,
      "outputs": [
        {
          "output_type": "execute_result",
          "data": {
            "text/plain": [
              "Data Through Date                              0\n",
              "Interconnection Date                           0\n",
              "Utility                                        0\n",
              "City/Town                                      0\n",
              "County                                         0\n",
              "Developer                                      0\n",
              "Metering Method                                0\n",
              "Estimated PV System Size (kWdc)                0\n",
              "PV System Size (kWac)                          0\n",
              "Estimated Annual PV Energy Production (kWh)    0\n",
              "Number of Projects                             0\n",
              "dtype: int64"
            ],
            "text/html": [
              "<div>\n",
              "<style scoped>\n",
              "    .dataframe tbody tr th:only-of-type {\n",
              "        vertical-align: middle;\n",
              "    }\n",
              "\n",
              "    .dataframe tbody tr th {\n",
              "        vertical-align: top;\n",
              "    }\n",
              "\n",
              "    .dataframe thead th {\n",
              "        text-align: right;\n",
              "    }\n",
              "</style>\n",
              "<table border=\"1\" class=\"dataframe\">\n",
              "  <thead>\n",
              "    <tr style=\"text-align: right;\">\n",
              "      <th></th>\n",
              "      <th>0</th>\n",
              "    </tr>\n",
              "  </thead>\n",
              "  <tbody>\n",
              "    <tr>\n",
              "      <th>Data Through Date</th>\n",
              "      <td>0</td>\n",
              "    </tr>\n",
              "    <tr>\n",
              "      <th>Interconnection Date</th>\n",
              "      <td>0</td>\n",
              "    </tr>\n",
              "    <tr>\n",
              "      <th>Utility</th>\n",
              "      <td>0</td>\n",
              "    </tr>\n",
              "    <tr>\n",
              "      <th>City/Town</th>\n",
              "      <td>0</td>\n",
              "    </tr>\n",
              "    <tr>\n",
              "      <th>County</th>\n",
              "      <td>0</td>\n",
              "    </tr>\n",
              "    <tr>\n",
              "      <th>Developer</th>\n",
              "      <td>0</td>\n",
              "    </tr>\n",
              "    <tr>\n",
              "      <th>Metering Method</th>\n",
              "      <td>0</td>\n",
              "    </tr>\n",
              "    <tr>\n",
              "      <th>Estimated PV System Size (kWdc)</th>\n",
              "      <td>0</td>\n",
              "    </tr>\n",
              "    <tr>\n",
              "      <th>PV System Size (kWac)</th>\n",
              "      <td>0</td>\n",
              "    </tr>\n",
              "    <tr>\n",
              "      <th>Estimated Annual PV Energy Production (kWh)</th>\n",
              "      <td>0</td>\n",
              "    </tr>\n",
              "    <tr>\n",
              "      <th>Number of Projects</th>\n",
              "      <td>0</td>\n",
              "    </tr>\n",
              "  </tbody>\n",
              "</table>\n",
              "</div><br><label><b>dtype:</b> int64</label>"
            ]
          },
          "metadata": {},
          "execution_count": 38
        }
      ]
    },
    {
      "cell_type": "code",
      "source": [
        "df['Interconnection Date']=pd.to_datetime(df['Interconnection Date'])"
      ],
      "metadata": {
        "id": "YEe1belpKagS"
      },
      "execution_count": 39,
      "outputs": []
    },
    {
      "cell_type": "markdown",
      "source": [
        "*Converted the 'Interconnection Date' column to datetime format and extracts the month component, replacing the original column with the month values.*"
      ],
      "metadata": {
        "id": "RSHc6jqlKhJ8"
      }
    },
    {
      "cell_type": "code",
      "source": [
        "df['Interconnection Date'].dt.month.unique()"
      ],
      "metadata": {
        "colab": {
          "base_uri": "https://localhost:8080/"
        },
        "id": "zyy4agbxKd9N",
        "outputId": "55f978b9-f822-4c7c-c49f-5e911669d23d"
      },
      "execution_count": 40,
      "outputs": [
        {
          "output_type": "execute_result",
          "data": {
            "text/plain": [
              "array([12, 11, 10,  9,  8,  7,  6,  5,  4,  3,  2,  1], dtype=int32)"
            ]
          },
          "metadata": {},
          "execution_count": 40
        }
      ]
    },
    {
      "cell_type": "code",
      "source": [
        "df['Interconnection Date'] = df['Interconnection Date'].dt.month"
      ],
      "metadata": {
        "id": "zro7aoQLKrQF"
      },
      "execution_count": 41,
      "outputs": []
    },
    {
      "cell_type": "code",
      "source": [
        "df['Interconnection Date'].unique()"
      ],
      "metadata": {
        "colab": {
          "base_uri": "https://localhost:8080/"
        },
        "id": "Teey00-kKsGi",
        "outputId": "aa28b7fb-4502-432c-b89a-9c073a5fb0ba"
      },
      "execution_count": 42,
      "outputs": [
        {
          "output_type": "execute_result",
          "data": {
            "text/plain": [
              "array([12, 11, 10,  9,  8,  7,  6,  5,  4,  3,  2,  1], dtype=int32)"
            ]
          },
          "metadata": {},
          "execution_count": 42
        }
      ]
    },
    {
      "cell_type": "code",
      "source": [
        "df['Data Through Date']=pd.to_datetime(df['Data Through Date'])"
      ],
      "metadata": {
        "id": "6mJeu9JbKuAH"
      },
      "execution_count": 43,
      "outputs": []
    },
    {
      "cell_type": "markdown",
      "source": [
        "*Coverted Data Through Date column to datetime format and extracts the month component, replacing the original column with the month values.*"
      ],
      "metadata": {
        "id": "2hq7_QtXK4nn"
      }
    },
    {
      "cell_type": "code",
      "source": [
        "df['Data Through Date'].dt.month.unique()"
      ],
      "metadata": {
        "colab": {
          "base_uri": "https://localhost:8080/"
        },
        "id": "D5bmDJT9K0go",
        "outputId": "ad763141-0cea-4011-afab-4ae83fe919ba"
      },
      "execution_count": 44,
      "outputs": [
        {
          "output_type": "execute_result",
          "data": {
            "text/plain": [
              "array([12], dtype=int32)"
            ]
          },
          "metadata": {},
          "execution_count": 44
        }
      ]
    },
    {
      "cell_type": "code",
      "source": [
        "df['Data Through Date'] = df['Data Through Date'].dt.month"
      ],
      "metadata": {
        "id": "deCiHPoILAak"
      },
      "execution_count": 45,
      "outputs": []
    },
    {
      "cell_type": "code",
      "source": [
        "df['Data Through Date'].unique()"
      ],
      "metadata": {
        "colab": {
          "base_uri": "https://localhost:8080/"
        },
        "id": "cidbPi3VLEC5",
        "outputId": "089daf9c-4ad0-4d46-de66-91eab8592547"
      },
      "execution_count": 46,
      "outputs": [
        {
          "output_type": "execute_result",
          "data": {
            "text/plain": [
              "array([12], dtype=int32)"
            ]
          },
          "metadata": {},
          "execution_count": 46
        }
      ]
    },
    {
      "cell_type": "code",
      "source": [
        "df.head()"
      ],
      "metadata": {
        "colab": {
          "base_uri": "https://localhost:8080/",
          "height": 434
        },
        "id": "WtPus2BtLF0J",
        "outputId": "3d23628b-2863-4cf6-ea7d-ba4011085616"
      },
      "execution_count": 47,
      "outputs": [
        {
          "output_type": "execute_result",
          "data": {
            "text/plain": [
              "   Data Through Date  Interconnection Date Utility            City/Town  \\\n",
              "0                 12                    12  Con Ed        richmond hill   \n",
              "1                 12                    12  Con Ed                bronx   \n",
              "2                 12                    12  Con Ed             brooklyn   \n",
              "3                 12                    12  Con Ed             brooklyn   \n",
              "4                 12                    12  Con Ed  springfield gardens   \n",
              "\n",
              "   County                Developer Metering Method  \\\n",
              "0  Queens  Kamtech Solar Solutions              NM   \n",
              "1   Bronx  Kamtech Solar Solutions              NM   \n",
              "2   Kings                    SUNCO              NM   \n",
              "3   Kings  Kamtech Solar Solutions              NM   \n",
              "4  Queens  Kamtech Solar Solutions              NM   \n",
              "\n",
              "   Estimated PV System Size (kWdc)  PV System Size (kWac)  \\\n",
              "0                             6.05                   5.17   \n",
              "1                             6.74                   5.76   \n",
              "2                             3.05                   2.61   \n",
              "3                             5.62                   4.80   \n",
              "4                             6.05                   5.17   \n",
              "\n",
              "   Estimated Annual PV Energy Production (kWh)  Number of Projects  \n",
              "0                                         7100                   1  \n",
              "1                                         7911                   1  \n",
              "2                                         3585                   1  \n",
              "3                                         6592                   1  \n",
              "4                                         7100                   1  "
            ],
            "text/html": [
              "\n",
              "  <div id=\"df-08811fc4-ece6-4d10-a5df-ca621831c266\" class=\"colab-df-container\">\n",
              "    <div>\n",
              "<style scoped>\n",
              "    .dataframe tbody tr th:only-of-type {\n",
              "        vertical-align: middle;\n",
              "    }\n",
              "\n",
              "    .dataframe tbody tr th {\n",
              "        vertical-align: top;\n",
              "    }\n",
              "\n",
              "    .dataframe thead th {\n",
              "        text-align: right;\n",
              "    }\n",
              "</style>\n",
              "<table border=\"1\" class=\"dataframe\">\n",
              "  <thead>\n",
              "    <tr style=\"text-align: right;\">\n",
              "      <th></th>\n",
              "      <th>Data Through Date</th>\n",
              "      <th>Interconnection Date</th>\n",
              "      <th>Utility</th>\n",
              "      <th>City/Town</th>\n",
              "      <th>County</th>\n",
              "      <th>Developer</th>\n",
              "      <th>Metering Method</th>\n",
              "      <th>Estimated PV System Size (kWdc)</th>\n",
              "      <th>PV System Size (kWac)</th>\n",
              "      <th>Estimated Annual PV Energy Production (kWh)</th>\n",
              "      <th>Number of Projects</th>\n",
              "    </tr>\n",
              "  </thead>\n",
              "  <tbody>\n",
              "    <tr>\n",
              "      <th>0</th>\n",
              "      <td>12</td>\n",
              "      <td>12</td>\n",
              "      <td>Con Ed</td>\n",
              "      <td>richmond hill</td>\n",
              "      <td>Queens</td>\n",
              "      <td>Kamtech Solar Solutions</td>\n",
              "      <td>NM</td>\n",
              "      <td>6.05</td>\n",
              "      <td>5.17</td>\n",
              "      <td>7100</td>\n",
              "      <td>1</td>\n",
              "    </tr>\n",
              "    <tr>\n",
              "      <th>1</th>\n",
              "      <td>12</td>\n",
              "      <td>12</td>\n",
              "      <td>Con Ed</td>\n",
              "      <td>bronx</td>\n",
              "      <td>Bronx</td>\n",
              "      <td>Kamtech Solar Solutions</td>\n",
              "      <td>NM</td>\n",
              "      <td>6.74</td>\n",
              "      <td>5.76</td>\n",
              "      <td>7911</td>\n",
              "      <td>1</td>\n",
              "    </tr>\n",
              "    <tr>\n",
              "      <th>2</th>\n",
              "      <td>12</td>\n",
              "      <td>12</td>\n",
              "      <td>Con Ed</td>\n",
              "      <td>brooklyn</td>\n",
              "      <td>Kings</td>\n",
              "      <td>SUNCO</td>\n",
              "      <td>NM</td>\n",
              "      <td>3.05</td>\n",
              "      <td>2.61</td>\n",
              "      <td>3585</td>\n",
              "      <td>1</td>\n",
              "    </tr>\n",
              "    <tr>\n",
              "      <th>3</th>\n",
              "      <td>12</td>\n",
              "      <td>12</td>\n",
              "      <td>Con Ed</td>\n",
              "      <td>brooklyn</td>\n",
              "      <td>Kings</td>\n",
              "      <td>Kamtech Solar Solutions</td>\n",
              "      <td>NM</td>\n",
              "      <td>5.62</td>\n",
              "      <td>4.80</td>\n",
              "      <td>6592</td>\n",
              "      <td>1</td>\n",
              "    </tr>\n",
              "    <tr>\n",
              "      <th>4</th>\n",
              "      <td>12</td>\n",
              "      <td>12</td>\n",
              "      <td>Con Ed</td>\n",
              "      <td>springfield gardens</td>\n",
              "      <td>Queens</td>\n",
              "      <td>Kamtech Solar Solutions</td>\n",
              "      <td>NM</td>\n",
              "      <td>6.05</td>\n",
              "      <td>5.17</td>\n",
              "      <td>7100</td>\n",
              "      <td>1</td>\n",
              "    </tr>\n",
              "  </tbody>\n",
              "</table>\n",
              "</div>\n",
              "    <div class=\"colab-df-buttons\">\n",
              "\n",
              "  <div class=\"colab-df-container\">\n",
              "    <button class=\"colab-df-convert\" onclick=\"convertToInteractive('df-08811fc4-ece6-4d10-a5df-ca621831c266')\"\n",
              "            title=\"Convert this dataframe to an interactive table.\"\n",
              "            style=\"display:none;\">\n",
              "\n",
              "  <svg xmlns=\"http://www.w3.org/2000/svg\" height=\"24px\" viewBox=\"0 -960 960 960\">\n",
              "    <path d=\"M120-120v-720h720v720H120Zm60-500h600v-160H180v160Zm220 220h160v-160H400v160Zm0 220h160v-160H400v160ZM180-400h160v-160H180v160Zm440 0h160v-160H620v160ZM180-180h160v-160H180v160Zm440 0h160v-160H620v160Z\"/>\n",
              "  </svg>\n",
              "    </button>\n",
              "\n",
              "  <style>\n",
              "    .colab-df-container {\n",
              "      display:flex;\n",
              "      gap: 12px;\n",
              "    }\n",
              "\n",
              "    .colab-df-convert {\n",
              "      background-color: #E8F0FE;\n",
              "      border: none;\n",
              "      border-radius: 50%;\n",
              "      cursor: pointer;\n",
              "      display: none;\n",
              "      fill: #1967D2;\n",
              "      height: 32px;\n",
              "      padding: 0 0 0 0;\n",
              "      width: 32px;\n",
              "    }\n",
              "\n",
              "    .colab-df-convert:hover {\n",
              "      background-color: #E2EBFA;\n",
              "      box-shadow: 0px 1px 2px rgba(60, 64, 67, 0.3), 0px 1px 3px 1px rgba(60, 64, 67, 0.15);\n",
              "      fill: #174EA6;\n",
              "    }\n",
              "\n",
              "    .colab-df-buttons div {\n",
              "      margin-bottom: 4px;\n",
              "    }\n",
              "\n",
              "    [theme=dark] .colab-df-convert {\n",
              "      background-color: #3B4455;\n",
              "      fill: #D2E3FC;\n",
              "    }\n",
              "\n",
              "    [theme=dark] .colab-df-convert:hover {\n",
              "      background-color: #434B5C;\n",
              "      box-shadow: 0px 1px 3px 1px rgba(0, 0, 0, 0.15);\n",
              "      filter: drop-shadow(0px 1px 2px rgba(0, 0, 0, 0.3));\n",
              "      fill: #FFFFFF;\n",
              "    }\n",
              "  </style>\n",
              "\n",
              "    <script>\n",
              "      const buttonEl =\n",
              "        document.querySelector('#df-08811fc4-ece6-4d10-a5df-ca621831c266 button.colab-df-convert');\n",
              "      buttonEl.style.display =\n",
              "        google.colab.kernel.accessAllowed ? 'block' : 'none';\n",
              "\n",
              "      async function convertToInteractive(key) {\n",
              "        const element = document.querySelector('#df-08811fc4-ece6-4d10-a5df-ca621831c266');\n",
              "        const dataTable =\n",
              "          await google.colab.kernel.invokeFunction('convertToInteractive',\n",
              "                                                    [key], {});\n",
              "        if (!dataTable) return;\n",
              "\n",
              "        const docLinkHtml = 'Like what you see? Visit the ' +\n",
              "          '<a target=\"_blank\" href=https://colab.research.google.com/notebooks/data_table.ipynb>data table notebook</a>'\n",
              "          + ' to learn more about interactive tables.';\n",
              "        element.innerHTML = '';\n",
              "        dataTable['output_type'] = 'display_data';\n",
              "        await google.colab.output.renderOutput(dataTable, element);\n",
              "        const docLink = document.createElement('div');\n",
              "        docLink.innerHTML = docLinkHtml;\n",
              "        element.appendChild(docLink);\n",
              "      }\n",
              "    </script>\n",
              "  </div>\n",
              "\n",
              "\n",
              "<div id=\"df-873c5c42-99b2-45d3-be70-b7eac63d1728\">\n",
              "  <button class=\"colab-df-quickchart\" onclick=\"quickchart('df-873c5c42-99b2-45d3-be70-b7eac63d1728')\"\n",
              "            title=\"Suggest charts\"\n",
              "            style=\"display:none;\">\n",
              "\n",
              "<svg xmlns=\"http://www.w3.org/2000/svg\" height=\"24px\"viewBox=\"0 0 24 24\"\n",
              "     width=\"24px\">\n",
              "    <g>\n",
              "        <path d=\"M19 3H5c-1.1 0-2 .9-2 2v14c0 1.1.9 2 2 2h14c1.1 0 2-.9 2-2V5c0-1.1-.9-2-2-2zM9 17H7v-7h2v7zm4 0h-2V7h2v10zm4 0h-2v-4h2v4z\"/>\n",
              "    </g>\n",
              "</svg>\n",
              "  </button>\n",
              "\n",
              "<style>\n",
              "  .colab-df-quickchart {\n",
              "      --bg-color: #E8F0FE;\n",
              "      --fill-color: #1967D2;\n",
              "      --hover-bg-color: #E2EBFA;\n",
              "      --hover-fill-color: #174EA6;\n",
              "      --disabled-fill-color: #AAA;\n",
              "      --disabled-bg-color: #DDD;\n",
              "  }\n",
              "\n",
              "  [theme=dark] .colab-df-quickchart {\n",
              "      --bg-color: #3B4455;\n",
              "      --fill-color: #D2E3FC;\n",
              "      --hover-bg-color: #434B5C;\n",
              "      --hover-fill-color: #FFFFFF;\n",
              "      --disabled-bg-color: #3B4455;\n",
              "      --disabled-fill-color: #666;\n",
              "  }\n",
              "\n",
              "  .colab-df-quickchart {\n",
              "    background-color: var(--bg-color);\n",
              "    border: none;\n",
              "    border-radius: 50%;\n",
              "    cursor: pointer;\n",
              "    display: none;\n",
              "    fill: var(--fill-color);\n",
              "    height: 32px;\n",
              "    padding: 0;\n",
              "    width: 32px;\n",
              "  }\n",
              "\n",
              "  .colab-df-quickchart:hover {\n",
              "    background-color: var(--hover-bg-color);\n",
              "    box-shadow: 0 1px 2px rgba(60, 64, 67, 0.3), 0 1px 3px 1px rgba(60, 64, 67, 0.15);\n",
              "    fill: var(--button-hover-fill-color);\n",
              "  }\n",
              "\n",
              "  .colab-df-quickchart-complete:disabled,\n",
              "  .colab-df-quickchart-complete:disabled:hover {\n",
              "    background-color: var(--disabled-bg-color);\n",
              "    fill: var(--disabled-fill-color);\n",
              "    box-shadow: none;\n",
              "  }\n",
              "\n",
              "  .colab-df-spinner {\n",
              "    border: 2px solid var(--fill-color);\n",
              "    border-color: transparent;\n",
              "    border-bottom-color: var(--fill-color);\n",
              "    animation:\n",
              "      spin 1s steps(1) infinite;\n",
              "  }\n",
              "\n",
              "  @keyframes spin {\n",
              "    0% {\n",
              "      border-color: transparent;\n",
              "      border-bottom-color: var(--fill-color);\n",
              "      border-left-color: var(--fill-color);\n",
              "    }\n",
              "    20% {\n",
              "      border-color: transparent;\n",
              "      border-left-color: var(--fill-color);\n",
              "      border-top-color: var(--fill-color);\n",
              "    }\n",
              "    30% {\n",
              "      border-color: transparent;\n",
              "      border-left-color: var(--fill-color);\n",
              "      border-top-color: var(--fill-color);\n",
              "      border-right-color: var(--fill-color);\n",
              "    }\n",
              "    40% {\n",
              "      border-color: transparent;\n",
              "      border-right-color: var(--fill-color);\n",
              "      border-top-color: var(--fill-color);\n",
              "    }\n",
              "    60% {\n",
              "      border-color: transparent;\n",
              "      border-right-color: var(--fill-color);\n",
              "    }\n",
              "    80% {\n",
              "      border-color: transparent;\n",
              "      border-right-color: var(--fill-color);\n",
              "      border-bottom-color: var(--fill-color);\n",
              "    }\n",
              "    90% {\n",
              "      border-color: transparent;\n",
              "      border-bottom-color: var(--fill-color);\n",
              "    }\n",
              "  }\n",
              "</style>\n",
              "\n",
              "  <script>\n",
              "    async function quickchart(key) {\n",
              "      const quickchartButtonEl =\n",
              "        document.querySelector('#' + key + ' button');\n",
              "      quickchartButtonEl.disabled = true;  // To prevent multiple clicks.\n",
              "      quickchartButtonEl.classList.add('colab-df-spinner');\n",
              "      try {\n",
              "        const charts = await google.colab.kernel.invokeFunction(\n",
              "            'suggestCharts', [key], {});\n",
              "      } catch (error) {\n",
              "        console.error('Error during call to suggestCharts:', error);\n",
              "      }\n",
              "      quickchartButtonEl.classList.remove('colab-df-spinner');\n",
              "      quickchartButtonEl.classList.add('colab-df-quickchart-complete');\n",
              "    }\n",
              "    (() => {\n",
              "      let quickchartButtonEl =\n",
              "        document.querySelector('#df-873c5c42-99b2-45d3-be70-b7eac63d1728 button');\n",
              "      quickchartButtonEl.style.display =\n",
              "        google.colab.kernel.accessAllowed ? 'block' : 'none';\n",
              "    })();\n",
              "  </script>\n",
              "</div>\n",
              "\n",
              "    </div>\n",
              "  </div>\n"
            ],
            "application/vnd.google.colaboratory.intrinsic+json": {
              "type": "dataframe",
              "variable_name": "df"
            }
          },
          "metadata": {},
          "execution_count": 47
        }
      ]
    },
    {
      "cell_type": "code",
      "source": [
        "# Rename the \"Interconnection Date\" column to \"Interconnection Month\"\n",
        "df.rename(columns={'Interconnection Date': 'Interconnection Month'}, inplace=True)\n",
        "\n",
        "# Rename the \"Data Through Date\" column to \"Data Through Month\"\n",
        "df.rename(columns={'Data Through Date': 'Data Through Month'}, inplace=True)"
      ],
      "metadata": {
        "id": "gmxVXKbBLPc5"
      },
      "execution_count": 48,
      "outputs": []
    },
    {
      "cell_type": "code",
      "source": [
        "df.isnull().sum()"
      ],
      "metadata": {
        "colab": {
          "base_uri": "https://localhost:8080/",
          "height": 429
        },
        "id": "pj9vA226LlLJ",
        "outputId": "57705923-3f21-4892-f73d-61054307391b"
      },
      "execution_count": 49,
      "outputs": [
        {
          "output_type": "execute_result",
          "data": {
            "text/plain": [
              "Data Through Month                             0\n",
              "Interconnection Month                          0\n",
              "Utility                                        0\n",
              "City/Town                                      0\n",
              "County                                         0\n",
              "Developer                                      0\n",
              "Metering Method                                0\n",
              "Estimated PV System Size (kWdc)                0\n",
              "PV System Size (kWac)                          0\n",
              "Estimated Annual PV Energy Production (kWh)    0\n",
              "Number of Projects                             0\n",
              "dtype: int64"
            ],
            "text/html": [
              "<div>\n",
              "<style scoped>\n",
              "    .dataframe tbody tr th:only-of-type {\n",
              "        vertical-align: middle;\n",
              "    }\n",
              "\n",
              "    .dataframe tbody tr th {\n",
              "        vertical-align: top;\n",
              "    }\n",
              "\n",
              "    .dataframe thead th {\n",
              "        text-align: right;\n",
              "    }\n",
              "</style>\n",
              "<table border=\"1\" class=\"dataframe\">\n",
              "  <thead>\n",
              "    <tr style=\"text-align: right;\">\n",
              "      <th></th>\n",
              "      <th>0</th>\n",
              "    </tr>\n",
              "  </thead>\n",
              "  <tbody>\n",
              "    <tr>\n",
              "      <th>Data Through Month</th>\n",
              "      <td>0</td>\n",
              "    </tr>\n",
              "    <tr>\n",
              "      <th>Interconnection Month</th>\n",
              "      <td>0</td>\n",
              "    </tr>\n",
              "    <tr>\n",
              "      <th>Utility</th>\n",
              "      <td>0</td>\n",
              "    </tr>\n",
              "    <tr>\n",
              "      <th>City/Town</th>\n",
              "      <td>0</td>\n",
              "    </tr>\n",
              "    <tr>\n",
              "      <th>County</th>\n",
              "      <td>0</td>\n",
              "    </tr>\n",
              "    <tr>\n",
              "      <th>Developer</th>\n",
              "      <td>0</td>\n",
              "    </tr>\n",
              "    <tr>\n",
              "      <th>Metering Method</th>\n",
              "      <td>0</td>\n",
              "    </tr>\n",
              "    <tr>\n",
              "      <th>Estimated PV System Size (kWdc)</th>\n",
              "      <td>0</td>\n",
              "    </tr>\n",
              "    <tr>\n",
              "      <th>PV System Size (kWac)</th>\n",
              "      <td>0</td>\n",
              "    </tr>\n",
              "    <tr>\n",
              "      <th>Estimated Annual PV Energy Production (kWh)</th>\n",
              "      <td>0</td>\n",
              "    </tr>\n",
              "    <tr>\n",
              "      <th>Number of Projects</th>\n",
              "      <td>0</td>\n",
              "    </tr>\n",
              "  </tbody>\n",
              "</table>\n",
              "</div><br><label><b>dtype:</b> int64</label>"
            ]
          },
          "metadata": {},
          "execution_count": 49
        }
      ]
    },
    {
      "cell_type": "markdown",
      "source": [
        "# **Exploratory Data Analysis**"
      ],
      "metadata": {
        "id": "4yI1wzc2L0JE"
      }
    },
    {
      "cell_type": "code",
      "source": [
        "# Plot distribution of City/Town frequencies using a count plot\n",
        "plt.figure(figsize=(14, 8))\n",
        "sns.set_palette(\"deep\")\n",
        "sns.countplot(y='City/Town', data=df, order=df['City/Town'].value_counts().iloc[:20].index)\n",
        "plt.title('Top 20 Most Frequent City/Town')\n",
        "plt.xlabel('Frequency')\n",
        "plt.ylabel('City/Town')\n",
        "plt.show()"
      ],
      "metadata": {
        "colab": {
          "base_uri": "https://localhost:8080/",
          "height": 372
        },
        "id": "uVH6jMLWLwQW",
        "outputId": "9e8143c7-a3d0-4554-9a43-4d525cb7a57f"
      },
      "execution_count": 58,
      "outputs": [
        {
          "output_type": "display_data",
          "data": {
            "text/plain": [
              "<Figure size 1400x800 with 1 Axes>"
            ],
            "image/png": "[encoded data removed]"
          },
          "metadata": {}
        }
      ]
    },
    {
      "cell_type": "markdown",
      "source": [
        "## **Findings:**\n",
        "\n",
        "* Staten Island City has the highest frequency, exceeding 10,000 occurrences.\n",
        "\n",
        "* Brooklyn ranks second in frequency but falls slightly behind Staten Island.\n",
        "\n",
        "* Baldwin City records the lowest frequency among the observed locations."
      ],
      "metadata": {
        "id": "BPfH2XnsNKV6"
      }
    },
    {
      "cell_type": "code",
      "source": [
        "# Plot distribution of County frequencies using a count plot\n",
        "plt.figure(figsize=(14, 8))\n",
        "sns.countplot(y='County', data=df, order=df['County'].value_counts().iloc[:20].index)\n",
        "plt.title('Top 20 Most Frequent Counties')\n",
        "plt.xlabel('Frequency')\n",
        "plt.ylabel('County')\n",
        "plt.show()"
      ],
      "metadata": {
        "colab": {
          "base_uri": "https://localhost:8080/",
          "height": 385
        },
        "id": "EkJ9obApNXzV",
        "outputId": "7d640df8-02aa-4908-fdcd-341c5c993242"
      },
      "execution_count": 59,
      "outputs": [
        {
          "output_type": "display_data",
          "data": {
            "text/plain": [
              "<Figure size 1400x800 with 1 Axes>"
            ],
            "image/png": "[encoded data removed]"
          },
          "metadata": {}
        }
      ]
    },
    {
      "cell_type": "markdown",
      "source": [
        "## **Findings:**\n",
        "\n",
        "* Suffolk County emerges as the most frequent county, with a frequency exceeding 50,000.\n",
        "\n",
        "* Nassau County follows closely, with a frequency ranging between 30,000 and 40,000.\n",
        "\n",
        "* Columbia County exhibits the lowest frequency among all counties surveyed."
      ],
      "metadata": {
        "id": "L2x-rLxCNbBu"
      }
    },
    {
      "cell_type": "code",
      "source": [
        "#Scatter plot of PV System Size (kWac) vs Estimated Annual PV Energy Production (kWh)\n",
        "df.plot.scatter(x='PV System Size (kWac)', y='Estimated Annual PV Energy Production (kWh)', title='Scatter plot')\n",
        "plt.show()"
      ],
      "metadata": {
        "colab": {
          "base_uri": "https://localhost:8080/",
          "height": 472
        },
        "id": "pWj5fWBZNxIS",
        "outputId": "4e33f37f-7188-4735-87f7-ee2c33f12aad"
      },
      "execution_count": 60,
      "outputs": [
        {
          "output_type": "display_data",
          "data": {
            "text/plain": [
              "<Figure size 640x480 with 1 Axes>"
            ],
            "image/png": "[encoded data removed]"
          },
          "metadata": {}
        }
      ]
    },
    {
      "cell_type": "markdown",
      "source": [
        "## **Findings:**\n",
        "\n",
        "* I have used the scatter plot to see the linear relationship between  PV system size (kWac) and estimated annual PV energy production (kWh).\n",
        "\n",
        "* But It is not showing me the linear relationship between both the columns.\n",
        "\n",
        "* The presence of outliers are influencing the relationship between PV system size and estimated annual PV energy production."
      ],
      "metadata": {
        "id": "Ordh7dmtOBsj"
      }
    },
    {
      "cell_type": "code",
      "source": [
        "sns.boxplot(x='Estimated PV System Size (kWdc)', data=df)\n",
        "plt.show()"
      ],
      "metadata": {
        "colab": {
          "base_uri": "https://localhost:8080/",
          "height": 449
        },
        "id": "Bi6hscRuOXu_",
        "outputId": "8b7c1087-215f-4a07-e7fe-f1a8835d0507"
      },
      "execution_count": 62,
      "outputs": [
        {
          "output_type": "display_data",
          "data": {
            "text/plain": [
              "<Figure size 640x480 with 1 Axes>"
            ],
            "image/png": "[encoded data removed]"
          },
          "metadata": {}
        }
      ]
    },
    {
      "cell_type": "code",
      "source": [
        "column_to_cap = 'Estimated PV System Size (kWdc)'\n",
        "\n",
        "Q1 = df[column_to_cap].quantile(0.25)\n",
        "Q3 = df[column_to_cap].quantile(0.75)\n",
        "IQR = Q3 - Q1\n",
        "\n",
        "lower_limit = Q1 - 1.5 * IQR\n",
        "upper_limit = Q3 + 1.5 * IQR\n",
        "\n",
        "df[column_to_cap] = df[column_to_cap].apply(lambda x: lower_limit if x < lower_limit else (upper_limit if x > upper_limit else x))"
      ],
      "metadata": {
        "id": "I1m2lO6YOc6k"
      },
      "execution_count": 63,
      "outputs": []
    },
    {
      "cell_type": "code",
      "source": [
        "lower_limit"
      ],
      "metadata": {
        "colab": {
          "base_uri": "https://localhost:8080/"
        },
        "id": "TZqhVnWJOiuA",
        "outputId": "bb8d4216-9432-4fa8-b8b3-aaa3f2c3d9df"
      },
      "execution_count": 64,
      "outputs": [
        {
          "output_type": "execute_result",
          "data": {
            "text/plain": [
              "-2.2250000000000005"
            ]
          },
          "metadata": {},
          "execution_count": 64
        }
      ]
    },
    {
      "cell_type": "code",
      "source": [
        "plt.figure(figsize=(10, 6))\n",
        "sns.boxplot(x=df['Estimated PV System Size (kWdc)'])\n",
        "plt.title('Box Plot for Estimated PV System Size (kWdc)')\n",
        "plt.show()"
      ],
      "metadata": {
        "colab": {
          "base_uri": "https://localhost:8080/",
          "height": 457
        },
        "id": "ULhXknYlOmzf",
        "outputId": "ad64a9d3-6839-4937-9257-d8c9cda3f98d"
      },
      "execution_count": 65,
      "outputs": [
        {
          "output_type": "display_data",
          "data": {
            "text/plain": [
              "<Figure size 1000x600 with 1 Axes>"
            ],
            "image/png": "[encoded data removed]"
          },
          "metadata": {}
        }
      ]
    },
    {
      "cell_type": "code",
      "source": [
        "sns.boxplot(x='PV System Size (kWac)', data=df)"
      ],
      "metadata": {
        "colab": {
          "base_uri": "https://localhost:8080/",
          "height": 466
        },
        "id": "8D1rvGX4OprY",
        "outputId": "821904ea-7626-4e55-a400-cdbd7501c236"
      },
      "execution_count": 66,
      "outputs": [
        {
          "output_type": "execute_result",
          "data": {
            "text/plain": [
              "<Axes: xlabel='PV System Size (kWac)'>"
            ]
          },
          "metadata": {},
          "execution_count": 66
        },
        {
          "output_type": "display_data",
          "data": {
            "text/plain": [
              "<Figure size 640x480 with 1 Axes>"
            ],
            "image/png": "[encoded data removed]"
          },
          "metadata": {}
        }
      ]
    },
    {
      "cell_type": "code",
      "source": [
        "column_to_cap = 'PV System Size (kWac)'\n",
        "\n",
        "Q1 = df[column_to_cap].quantile(0.25)\n",
        "Q3 = df[column_to_cap].quantile(0.75)\n",
        "IQR = Q3 - Q1\n",
        "\n",
        "lower_limit = Q1 - 1.5 * IQR\n",
        "upper_limit = Q3 + 1.5 * IQR\n",
        "\n",
        "df[column_to_cap] = df[column_to_cap].apply(lambda x: lower_limit if x < lower_limit else (upper_limit if x > upper_limit else x))"
      ],
      "metadata": {
        "id": "iJHHtwbvOrcp"
      },
      "execution_count": 67,
      "outputs": []
    },
    {
      "cell_type": "code",
      "source": [
        "lower_limit"
      ],
      "metadata": {
        "colab": {
          "base_uri": "https://localhost:8080/"
        },
        "id": "0qf5li61Os7_",
        "outputId": "d3f1eb56-55e8-4ac6-9411-f1cf26ea77f4"
      },
      "execution_count": 68,
      "outputs": [
        {
          "output_type": "execute_result",
          "data": {
            "text/plain": [
              "-1.9000000000000021"
            ]
          },
          "metadata": {},
          "execution_count": 68
        }
      ]
    },
    {
      "cell_type": "code",
      "source": [
        "upper_limit"
      ],
      "metadata": {
        "colab": {
          "base_uri": "https://localhost:8080/"
        },
        "id": "LDkVs1VWOuOv",
        "outputId": "a15da6a8-c59c-4e28-f7be-fe335be4fd5a"
      },
      "execution_count": 69,
      "outputs": [
        {
          "output_type": "execute_result",
          "data": {
            "text/plain": [
              "15.220000000000002"
            ]
          },
          "metadata": {},
          "execution_count": 69
        }
      ]
    },
    {
      "cell_type": "code",
      "source": [
        "plt.figure(figsize=(10, 6))\n",
        "sns.boxplot(x=df['PV System Size (kWac)'])\n",
        "plt.title('Box Plot for PV System Size (kWac)')\n",
        "plt.show()"
      ],
      "metadata": {
        "colab": {
          "base_uri": "https://localhost:8080/",
          "height": 457
        },
        "id": "jLFmCUe_Ov1n",
        "outputId": "29e2eda7-bf9f-4507-caac-d46edbdaf4e6"
      },
      "execution_count": 70,
      "outputs": [
        {
          "output_type": "display_data",
          "data": {
            "text/plain": [
              "<Figure size 1000x600 with 1 Axes>"
            ],
            "image/png": "[encoded data removed]"
          },
          "metadata": {}
        }
      ]
    },
    {
      "cell_type": "code",
      "source": [
        "sns.boxplot(x='Estimated Annual PV Energy Production (kWh)', data=df)"
      ],
      "metadata": {
        "colab": {
          "base_uri": "https://localhost:8080/",
          "height": 466
        },
        "id": "X8PmH888OyKD",
        "outputId": "fef6c64f-e7c2-4023-83ce-d68d31ee8812"
      },
      "execution_count": 71,
      "outputs": [
        {
          "output_type": "execute_result",
          "data": {
            "text/plain": [
              "<Axes: xlabel='Estimated Annual PV Energy Production (kWh)'>"
            ]
          },
          "metadata": {},
          "execution_count": 71
        },
        {
          "output_type": "display_data",
          "data": {
            "text/plain": [
              "<Figure size 640x480 with 1 Axes>"
            ],
            "image/png": "[encoded data removed]"
          },
          "metadata": {}
        }
      ]
    },
    {
      "cell_type": "code",
      "source": [
        "column_to_cap = 'Estimated Annual PV Energy Production (kWh)'\n",
        "\n",
        "Q1 = df[column_to_cap].quantile(0.25)\n",
        "Q3 = df[column_to_cap].quantile(0.75)\n",
        "IQR = Q3 - Q1\n",
        "\n",
        "lower_limit = Q1 - 1.5 * IQR\n",
        "upper_limit = Q3 + 1.5 * IQR\n",
        "\n",
        "df[column_to_cap] = df[column_to_cap].apply(lambda x: lower_limit if x < lower_limit else (upper_limit if x > upper_limit else x))"
      ],
      "metadata": {
        "id": "hQjvvYVuOz_A"
      },
      "execution_count": 72,
      "outputs": []
    },
    {
      "cell_type": "code",
      "source": [
        "lower_limit"
      ],
      "metadata": {
        "colab": {
          "base_uri": "https://localhost:8080/"
        },
        "id": "ERBBq7f3O1DR",
        "outputId": "57b31f8a-20ce-4410-f244-578cf5d1d457"
      },
      "execution_count": 73,
      "outputs": [
        {
          "output_type": "execute_result",
          "data": {
            "text/plain": [
              "-2609.0"
            ]
          },
          "metadata": {},
          "execution_count": 73
        }
      ]
    },
    {
      "cell_type": "code",
      "source": [
        "upper_limit"
      ],
      "metadata": {
        "colab": {
          "base_uri": "https://localhost:8080/"
        },
        "id": "537swVpKO16p",
        "outputId": "603b51e5-8f2f-4a44-af53-24f4f2ddad8f"
      },
      "execution_count": 74,
      "outputs": [
        {
          "output_type": "execute_result",
          "data": {
            "text/plain": [
              "20903.0"
            ]
          },
          "metadata": {},
          "execution_count": 74
        }
      ]
    },
    {
      "cell_type": "code",
      "source": [
        "sns.boxplot(x='Estimated Annual PV Energy Production (kWh)', data=df)"
      ],
      "metadata": {
        "colab": {
          "base_uri": "https://localhost:8080/",
          "height": 466
        },
        "id": "RiolCMMnO4HN",
        "outputId": "b5b7e3db-a13f-4bbe-b3ec-e5eb2e98c88f"
      },
      "execution_count": 75,
      "outputs": [
        {
          "output_type": "execute_result",
          "data": {
            "text/plain": [
              "<Axes: xlabel='Estimated Annual PV Energy Production (kWh)'>"
            ]
          },
          "metadata": {},
          "execution_count": 75
        },
        {
          "output_type": "display_data",
          "data": {
            "text/plain": [
              "<Figure size 640x480 with 1 Axes>"
            ],
            "image/png": "[encoded data removed]"
          },
          "metadata": {}
        }
      ]
    },
    {
      "cell_type": "code",
      "source": [
        "sns.set(style=\"whitegrid\")\n",
        "\n",
        "# List of continuous variables\n",
        "continuous_vars = df[['Estimated Annual PV Energy Production (kWh)','PV System Size (kWac)','Estimated PV System Size (kWdc)']]\n",
        "\n",
        "plt.figure(figsize=(15, 10))\n",
        "for i, var in enumerate(continuous_vars):\n",
        "  plt.subplot(3, 2, i + 1)\n",
        "  sns.histplot(df[var], kde=True, bins=30, color='blue')\n",
        "  plt.title(f'Distribution of {var}')\n",
        "plt.tight_layout()\n",
        "plt.show()"
      ],
      "metadata": {
        "colab": {
          "base_uri": "https://localhost:8080/",
          "height": 316
        },
        "id": "MsbLJccCO-DQ",
        "outputId": "9eff0758-045e-48a3-9590-89f52ba957ba"
      },
      "execution_count": 76,
      "outputs": [
        {
          "output_type": "display_data",
          "data": {
            "text/plain": [
              "<Figure size 1500x1000 with 3 Axes>"
            ],
            "image/png": "[encoded data removed]"
          },
          "metadata": {}
        }
      ]
    },
    {
      "cell_type": "markdown",
      "source": [
        "## **Findings:**\n",
        "\n",
        "* Distribution of Estimated Annual PV Energy Production (kWh): The distribution is multimodal with peaks around 5,000 and 10,000 kWh, indicating common system sizes, but shows a significant increase at 20,000 kWh.\n",
        "\n",
        "* Distribution of PV System Size (kWac): The PV system size in kWac has multiple peaks, notably around 5 kWac, suggesting common installations around this size, with a large spike at 15 kWac.\n",
        "\n",
        "* Distribution of Estimated PV System Size (kWdc): The system size in kWdc mirrors the kWac distribution, with multiple peaks around 5 to 7 kWdc, and a sharp rise at around 17.5 kWdc."
      ],
      "metadata": {
        "id": "_2OYsxmEPogh"
      }
    },
    {
      "cell_type": "code",
      "source": [
        "#Scatter plot of PV System Size (kWac) vs Estimated Annual PV Energy Production (kWh)\n",
        "df.plot.scatter(x='PV System Size (kWac)', y='Estimated Annual PV Energy Production (kWh)', title='Scatter plot')\n",
        "plt.show()"
      ],
      "metadata": {
        "colab": {
          "base_uri": "https://localhost:8080/",
          "height": 480
        },
        "id": "b2202w5sQG9D",
        "outputId": "83608254-2dbf-4398-f933-c21f9f622780"
      },
      "execution_count": 77,
      "outputs": [
        {
          "output_type": "display_data",
          "data": {
            "text/plain": [
              "<Figure size 640x480 with 1 Axes>"
            ],
            "image/png": "[encoded data removed]"
          },
          "metadata": {}
        }
      ]
    },
    {
      "cell_type": "markdown",
      "source": [
        "## **Findings:**\n",
        "\n",
        "* I have used the scatter plot to see the linear relationship between  PV system size (kWac) and estimated annual PV energy production (kWh).\n",
        "\n",
        "* After Removing the Outliers, It is showing me the linear relationship between both the columns.\n"
      ],
      "metadata": {
        "id": "kHS_Otu9QM8z"
      }
    },
    {
      "cell_type": "code",
      "source": [
        "# Plotting histograms for distribution\n",
        "plt.figure(figsize=(10, 6))\n",
        "plt.hist(df['Interconnection Month'], bins=20, alpha=0.5, label='Interconnection Month')\n",
        "plt.title('Distribution Analysis')\n",
        "plt.xlabel('Month')\n",
        "plt.ylabel('Frequency')\n",
        "plt.legend()\n",
        "plt.show()"
      ],
      "metadata": {
        "colab": {
          "base_uri": "https://localhost:8080/",
          "height": 423
        },
        "id": "vS_Ru9W3QJb1",
        "outputId": "92408f5e-a516-4e74-8cf3-31308fb175e5"
      },
      "execution_count": 78,
      "outputs": [
        {
          "output_type": "display_data",
          "data": {
            "text/plain": [
              "<Figure size 1000x600 with 1 Axes>"
            ],
            "image/png": "[encoded data removed]"
          },
          "metadata": {}
        }
      ]
    },
    {
      "cell_type": "markdown",
      "source": [
        "## **Findings**\n",
        "\n",
        "* December month has Peaks in frequency with higher interconnection rates as compare to other months"
      ],
      "metadata": {
        "id": "K1iQ-UJhQwLR"
      }
    },
    {
      "cell_type": "markdown",
      "source": [
        "## **Scaling(Normalization)**\n",
        "\n",
        "* The provided code utilizes the MinMaxScaler from scikit-learn to perform min-max scaling on three numerical features: 'Estimated PV System Size (kWdc)', 'PV System Size (kWac)', and 'Estimated Annual PV Energy Production (kWh)'. Here's the conclusion:\n",
        "\n",
        "* The MinMaxScaler scales the features to a fixed range between 0 and 1, ensuring that all features are standardized and have a comparable scale.\n",
        "\n",
        "* The scaled features are then used to create a new DataFrame, 'scaled_df', containing the transformed data, with each feature now normalized.\n",
        "\n",
        "* This preprocessing step is valuable for machine learning tasks, as it helps mitigate the impact of varying scales among features and facilitates more effective model training and evaluation."
      ],
      "metadata": {
        "id": "9YEemj4qQ06V"
      }
    },
    {
      "cell_type": "code",
      "source": [
        "scaler = MinMaxScaler()\n",
        "\n",
        "scaled_features = scaler.fit_transform(df[['Estimated PV System Size (kWdc)', 'PV System Size (kWac)', 'Estimated Annual PV Energy Production (kWh)']])\n",
        "\n",
        "scaled_df = pd.DataFrame(scaled_features, columns=['Estimated PV System Size (kWdc)', 'PV System Size (kWac)', 'Estimated Annual PV Energy Production (kWh)'])"
      ],
      "metadata": {
        "id": "xpRFGyUGQ_pD"
      },
      "execution_count": 79,
      "outputs": []
    },
    {
      "cell_type": "code",
      "source": [
        "finaldf = scaled_df[['Estimated PV System Size (kWdc)','PV System Size (kWac)','Estimated Annual PV Energy Production (kWh)']]"
      ],
      "metadata": {
        "id": "D1wMK_pqTAvV"
      },
      "execution_count": 80,
      "outputs": []
    },
    {
      "cell_type": "code",
      "source": [
        "finaldf.head()"
      ],
      "metadata": {
        "colab": {
          "base_uri": "https://localhost:8080/",
          "height": 223
        },
        "id": "1er-9UA2TDAm",
        "outputId": "385dfbdb-7170-46ca-f1c5-77f4b22dfa91"
      },
      "execution_count": 81,
      "outputs": [
        {
          "output_type": "execute_result",
          "data": {
            "text/plain": [
              "   Estimated PV System Size (kWdc)  PV System Size (kWac)  \\\n",
              "0                         0.339231               0.339250   \n",
              "1                         0.377984               0.378041   \n",
              "2                         0.170739               0.170940   \n",
              "3                         0.315080               0.314924   \n",
              "4                         0.339231               0.339250   \n",
              "\n",
              "   Estimated Annual PV Energy Production (kWh)  \n",
              "0                                     0.339222  \n",
              "1                                     0.378046  \n",
              "2                                     0.170951  \n",
              "3                                     0.314903  \n",
              "4                                     0.339222  "
            ],
            "text/html": [
              "\n",
              "  <div id=\"df-2379723b-b343-4f14-94bb-ebf6d341eb73\" class=\"colab-df-container\">\n",
              "    <div>\n",
              "<style scoped>\n",
              "    .dataframe tbody tr th:only-of-type {\n",
              "        vertical-align: middle;\n",
              "    }\n",
              "\n",
              "    .dataframe tbody tr th {\n",
              "        vertical-align: top;\n",
              "    }\n",
              "\n",
              "    .dataframe thead th {\n",
              "        text-align: right;\n",
              "    }\n",
              "</style>\n",
              "<table border=\"1\" class=\"dataframe\">\n",
              "  <thead>\n",
              "    <tr style=\"text-align: right;\">\n",
              "      <th></th>\n",
              "      <th>Estimated PV System Size (kWdc)</th>\n",
              "      <th>PV System Size (kWac)</th>\n",
              "      <th>Estimated Annual PV Energy Production (kWh)</th>\n",
              "    </tr>\n",
              "  </thead>\n",
              "  <tbody>\n",
              "    <tr>\n",
              "      <th>0</th>\n",
              "      <td>0.339231</td>\n",
              "      <td>0.339250</td>\n",
              "      <td>0.339222</td>\n",
              "    </tr>\n",
              "    <tr>\n",
              "      <th>1</th>\n",
              "      <td>0.377984</td>\n",
              "      <td>0.378041</td>\n",
              "      <td>0.378046</td>\n",
              "    </tr>\n",
              "    <tr>\n",
              "      <th>2</th>\n",
              "      <td>0.170739</td>\n",
              "      <td>0.170940</td>\n",
              "      <td>0.170951</td>\n",
              "    </tr>\n",
              "    <tr>\n",
              "      <th>3</th>\n",
              "      <td>0.315080</td>\n",
              "      <td>0.314924</td>\n",
              "      <td>0.314903</td>\n",
              "    </tr>\n",
              "    <tr>\n",
              "      <th>4</th>\n",
              "      <td>0.339231</td>\n",
              "      <td>0.339250</td>\n",
              "      <td>0.339222</td>\n",
              "    </tr>\n",
              "  </tbody>\n",
              "</table>\n",
              "</div>\n",
              "    <div class=\"colab-df-buttons\">\n",
              "\n",
              "  <div class=\"colab-df-container\">\n",
              "    <button class=\"colab-df-convert\" onclick=\"convertToInteractive('df-2379723b-b343-4f14-94bb-ebf6d341eb73')\"\n",
              "            title=\"Convert this dataframe to an interactive table.\"\n",
              "            style=\"display:none;\">\n",
              "\n",
              "  <svg xmlns=\"http://www.w3.org/2000/svg\" height=\"24px\" viewBox=\"0 -960 960 960\">\n",
              "    <path d=\"M120-120v-720h720v720H120Zm60-500h600v-160H180v160Zm220 220h160v-160H400v160Zm0 220h160v-160H400v160ZM180-400h160v-160H180v160Zm440 0h160v-160H620v160ZM180-180h160v-160H180v160Zm440 0h160v-160H620v160Z\"/>\n",
              "  </svg>\n",
              "    </button>\n",
              "\n",
              "  <style>\n",
              "    .colab-df-container {\n",
              "      display:flex;\n",
              "      gap: 12px;\n",
              "    }\n",
              "\n",
              "    .colab-df-convert {\n",
              "      background-color: #E8F0FE;\n",
              "      border: none;\n",
              "      border-radius: 50%;\n",
              "      cursor: pointer;\n",
              "      display: none;\n",
              "      fill: #1967D2;\n",
              "      height: 32px;\n",
              "      padding: 0 0 0 0;\n",
              "      width: 32px;\n",
              "    }\n",
              "\n",
              "    .colab-df-convert:hover {\n",
              "      background-color: #E2EBFA;\n",
              "      box-shadow: 0px 1px 2px rgba(60, 64, 67, 0.3), 0px 1px 3px 1px rgba(60, 64, 67, 0.15);\n",
              "      fill: #174EA6;\n",
              "    }\n",
              "\n",
              "    .colab-df-buttons div {\n",
              "      margin-bottom: 4px;\n",
              "    }\n",
              "\n",
              "    [theme=dark] .colab-df-convert {\n",
              "      background-color: #3B4455;\n",
              "      fill: #D2E3FC;\n",
              "    }\n",
              "\n",
              "    [theme=dark] .colab-df-convert:hover {\n",
              "      background-color: #434B5C;\n",
              "      box-shadow: 0px 1px 3px 1px rgba(0, 0, 0, 0.15);\n",
              "      filter: drop-shadow(0px 1px 2px rgba(0, 0, 0, 0.3));\n",
              "      fill: #FFFFFF;\n",
              "    }\n",
              "  </style>\n",
              "\n",
              "    <script>\n",
              "      const buttonEl =\n",
              "        document.querySelector('#df-2379723b-b343-4f14-94bb-ebf6d341eb73 button.colab-df-convert');\n",
              "      buttonEl.style.display =\n",
              "        google.colab.kernel.accessAllowed ? 'block' : 'none';\n",
              "\n",
              "      async function convertToInteractive(key) {\n",
              "        const element = document.querySelector('#df-2379723b-b343-4f14-94bb-ebf6d341eb73');\n",
              "        const dataTable =\n",
              "          await google.colab.kernel.invokeFunction('convertToInteractive',\n",
              "                                                    [key], {});\n",
              "        if (!dataTable) return;\n",
              "\n",
              "        const docLinkHtml = 'Like what you see? Visit the ' +\n",
              "          '<a target=\"_blank\" href=https://colab.research.google.com/notebooks/data_table.ipynb>data table notebook</a>'\n",
              "          + ' to learn more about interactive tables.';\n",
              "        element.innerHTML = '';\n",
              "        dataTable['output_type'] = 'display_data';\n",
              "        await google.colab.output.renderOutput(dataTable, element);\n",
              "        const docLink = document.createElement('div');\n",
              "        docLink.innerHTML = docLinkHtml;\n",
              "        element.appendChild(docLink);\n",
              "      }\n",
              "    </script>\n",
              "  </div>\n",
              "\n",
              "\n",
              "<div id=\"df-53c215d5-2db3-4791-be1e-b4c8bae01722\">\n",
              "  <button class=\"colab-df-quickchart\" onclick=\"quickchart('df-53c215d5-2db3-4791-be1e-b4c8bae01722')\"\n",
              "            title=\"Suggest charts\"\n",
              "            style=\"display:none;\">\n",
              "\n",
              "<svg xmlns=\"http://www.w3.org/2000/svg\" height=\"24px\"viewBox=\"0 0 24 24\"\n",
              "     width=\"24px\">\n",
              "    <g>\n",
              "        <path d=\"M19 3H5c-1.1 0-2 .9-2 2v14c0 1.1.9 2 2 2h14c1.1 0 2-.9 2-2V5c0-1.1-.9-2-2-2zM9 17H7v-7h2v7zm4 0h-2V7h2v10zm4 0h-2v-4h2v4z\"/>\n",
              "    </g>\n",
              "</svg>\n",
              "  </button>\n",
              "\n",
              "<style>\n",
              "  .colab-df-quickchart {\n",
              "      --bg-color: #E8F0FE;\n",
              "      --fill-color: #1967D2;\n",
              "      --hover-bg-color: #E2EBFA;\n",
              "      --hover-fill-color: #174EA6;\n",
              "      --disabled-fill-color: #AAA;\n",
              "      --disabled-bg-color: #DDD;\n",
              "  }\n",
              "\n",
              "  [theme=dark] .colab-df-quickchart {\n",
              "      --bg-color: #3B4455;\n",
              "      --fill-color: #D2E3FC;\n",
              "      --hover-bg-color: #434B5C;\n",
              "      --hover-fill-color: #FFFFFF;\n",
              "      --disabled-bg-color: #3B4455;\n",
              "      --disabled-fill-color: #666;\n",
              "  }\n",
              "\n",
              "  .colab-df-quickchart {\n",
              "    background-color: var(--bg-color);\n",
              "    border: none;\n",
              "    border-radius: 50%;\n",
              "    cursor: pointer;\n",
              "    display: none;\n",
              "    fill: var(--fill-color);\n",
              "    height: 32px;\n",
              "    padding: 0;\n",
              "    width: 32px;\n",
              "  }\n",
              "\n",
              "  .colab-df-quickchart:hover {\n",
              "    background-color: var(--hover-bg-color);\n",
              "    box-shadow: 0 1px 2px rgba(60, 64, 67, 0.3), 0 1px 3px 1px rgba(60, 64, 67, 0.15);\n",
              "    fill: var(--button-hover-fill-color);\n",
              "  }\n",
              "\n",
              "  .colab-df-quickchart-complete:disabled,\n",
              "  .colab-df-quickchart-complete:disabled:hover {\n",
              "    background-color: var(--disabled-bg-color);\n",
              "    fill: var(--disabled-fill-color);\n",
              "    box-shadow: none;\n",
              "  }\n",
              "\n",
              "  .colab-df-spinner {\n",
              "    border: 2px solid var(--fill-color);\n",
              "    border-color: transparent;\n",
              "    border-bottom-color: var(--fill-color);\n",
              "    animation:\n",
              "      spin 1s steps(1) infinite;\n",
              "  }\n",
              "\n",
              "  @keyframes spin {\n",
              "    0% {\n",
              "      border-color: transparent;\n",
              "      border-bottom-color: var(--fill-color);\n",
              "      border-left-color: var(--fill-color);\n",
              "    }\n",
              "    20% {\n",
              "      border-color: transparent;\n",
              "      border-left-color: var(--fill-color);\n",
              "      border-top-color: var(--fill-color);\n",
              "    }\n",
              "    30% {\n",
              "      border-color: transparent;\n",
              "      border-left-color: var(--fill-color);\n",
              "      border-top-color: var(--fill-color);\n",
              "      border-right-color: var(--fill-color);\n",
              "    }\n",
              "    40% {\n",
              "      border-color: transparent;\n",
              "      border-right-color: var(--fill-color);\n",
              "      border-top-color: var(--fill-color);\n",
              "    }\n",
              "    60% {\n",
              "      border-color: transparent;\n",
              "      border-right-color: var(--fill-color);\n",
              "    }\n",
              "    80% {\n",
              "      border-color: transparent;\n",
              "      border-right-color: var(--fill-color);\n",
              "      border-bottom-color: var(--fill-color);\n",
              "    }\n",
              "    90% {\n",
              "      border-color: transparent;\n",
              "      border-bottom-color: var(--fill-color);\n",
              "    }\n",
              "  }\n",
              "</style>\n",
              "\n",
              "  <script>\n",
              "    async function quickchart(key) {\n",
              "      const quickchartButtonEl =\n",
              "        document.querySelector('#' + key + ' button');\n",
              "      quickchartButtonEl.disabled = true;  // To prevent multiple clicks.\n",
              "      quickchartButtonEl.classList.add('colab-df-spinner');\n",
              "      try {\n",
              "        const charts = await google.colab.kernel.invokeFunction(\n",
              "            'suggestCharts', [key], {});\n",
              "      } catch (error) {\n",
              "        console.error('Error during call to suggestCharts:', error);\n",
              "      }\n",
              "      quickchartButtonEl.classList.remove('colab-df-spinner');\n",
              "      quickchartButtonEl.classList.add('colab-df-quickchart-complete');\n",
              "    }\n",
              "    (() => {\n",
              "      let quickchartButtonEl =\n",
              "        document.querySelector('#df-53c215d5-2db3-4791-be1e-b4c8bae01722 button');\n",
              "      quickchartButtonEl.style.display =\n",
              "        google.colab.kernel.accessAllowed ? 'block' : 'none';\n",
              "    })();\n",
              "  </script>\n",
              "</div>\n",
              "\n",
              "    </div>\n",
              "  </div>\n"
            ],
            "application/vnd.google.colaboratory.intrinsic+json": {
              "type": "dataframe",
              "variable_name": "finaldf"
            }
          },
          "metadata": {},
          "execution_count": 81
        }
      ]
    },
    {
      "cell_type": "markdown",
      "source": [
        "## **K-Means Clustering Algorithm:**\n",
        "\n",
        "* K-means clustering is an unsupervised machine learning algorithm.\n",
        "\n",
        "* It partitions a dataset into K distinct clusters.\n",
        "\n",
        "* The objective is to minimize the within-cluster variance.\n",
        "\n",
        "* Each cluster is represented by its centroid, calculated as the mean of the data points in the cluster.\n",
        "\n",
        "* The algorithm iteratively assigns data points to the nearest centroid and updates the centroids based on the mean of the data points in each cluster.\n",
        "\n",
        "* The process continues until convergence, where centroids no longer change significantly, or a specified number of iterations is reached.\n",
        "\n",
        "* K-means clustering finds applications in customer segmentation, image segmentation, and anomaly detection, among others."
      ],
      "metadata": {
        "id": "r5GOtCWhTUh7"
      }
    },
    {
      "cell_type": "code",
      "source": [
        "X = finaldf[['Estimated PV System Size (kWdc)', 'PV System Size (kWac)', 'Estimated Annual PV Energy Production (kWh)']].values"
      ],
      "metadata": {
        "id": "x2hPvL7-VHel"
      },
      "execution_count": 96,
      "outputs": []
    },
    {
      "cell_type": "code",
      "source": [
        "def calculate_distortion(X, n_clusters):\n",
        "    distortions = []\n",
        "    for i in range(1, n_clusters + 1):\n",
        "        kmeans = KMeans(n_clusters=i, random_state=42)\n",
        "        kmeans.fit(X)\n",
        "        distortions.append(kmeans.inertia_)\n",
        "    return distortions"
      ],
      "metadata": {
        "id": "1CXR7yy6TlXg"
      },
      "execution_count": 97,
      "outputs": []
    },
    {
      "cell_type": "markdown",
      "source": [
        "* The function takes two arguments: X (the dataset) and n_clusters (the maximum number of clusters to consider).\n",
        "\n",
        "* It initializes an empty list called distortions to store the distortion values for each number of clusters.\n",
        "\n",
        "* It iterates through each possible number of clusters from 1 to n_clusters.\n",
        "\n",
        "* For each iteration, it creates a KMeans object with the specified number of clusters and fits it to the dataset X.\n",
        "\n",
        "* It computes the inertia of the KMeans model, which is a measure of how tightly clustered the data points are around the centroids.\n",
        "\n",
        "* The inertia value is appended to the distortions list.\n",
        "\n",
        "* Finally, the function returns the list of distortion values for different numbers of clusters."
      ],
      "metadata": {
        "id": "iBXL0UwjTxU8"
      }
    },
    {
      "cell_type": "code",
      "source": [
        "def plot_elbow(distortions, n_clusters):\n",
        "    plt.plot(range(1, n_clusters + 1), distortions, marker='o')\n",
        "    plt.title('Elbow Plot')\n",
        "    plt.xlabel('Number of clusters')\n",
        "    plt.ylabel('Distortion')\n",
        "    plt.show()"
      ],
      "metadata": {
        "id": "ZAxNWh-ET-lh"
      },
      "execution_count": 98,
      "outputs": []
    },
    {
      "cell_type": "code",
      "source": [
        "distortions = calculate_distortion(X, n_clusters=10)\n",
        "plot_elbow(distortions, n_clusters=10)"
      ],
      "metadata": {
        "colab": {
          "base_uri": "https://localhost:8080/",
          "height": 847
        },
        "id": "wtgi2PfpUCgY",
        "outputId": "a30aebfc-d832-49b2-b19e-947dd0675ea6"
      },
      "execution_count": 99,
      "outputs": [
        {
          "output_type": "stream",
          "name": "stderr",
          "text": [
            "/usr/local/lib/python3.10/dist-packages/sklearn/cluster/_kmeans.py:1416: FutureWarning: The default value of `n_init` will change from 10 to 'auto' in 1.4. Set the value of `n_init` explicitly to suppress the warning\n",
            "  super()._check_params_vs_input(X, default_n_init=10)\n",
            "/usr/local/lib/python3.10/dist-packages/sklearn/cluster/_kmeans.py:1416: FutureWarning: The default value of `n_init` will change from 10 to 'auto' in 1.4. Set the value of `n_init` explicitly to suppress the warning\n",
            "  super()._check_params_vs_input(X, default_n_init=10)\n",
            "/usr/local/lib/python3.10/dist-packages/sklearn/cluster/_kmeans.py:1416: FutureWarning: The default value of `n_init` will change from 10 to 'auto' in 1.4. Set the value of `n_init` explicitly to suppress the warning\n",
            "  super()._check_params_vs_input(X, default_n_init=10)\n",
            "/usr/local/lib/python3.10/dist-packages/sklearn/cluster/_kmeans.py:1416: FutureWarning: The default value of `n_init` will change from 10 to 'auto' in 1.4. Set the value of `n_init` explicitly to suppress the warning\n",
            "  super()._check_params_vs_input(X, default_n_init=10)\n",
            "/usr/local/lib/python3.10/dist-packages/sklearn/cluster/_kmeans.py:1416: FutureWarning: The default value of `n_init` will change from 10 to 'auto' in 1.4. Set the value of `n_init` explicitly to suppress the warning\n",
            "  super()._check_params_vs_input(X, default_n_init=10)\n",
            "/usr/local/lib/python3.10/dist-packages/sklearn/cluster/_kmeans.py:1416: FutureWarning: The default value of `n_init` will change from 10 to 'auto' in 1.4. Set the value of `n_init` explicitly to suppress the warning\n",
            "  super()._check_params_vs_input(X, default_n_init=10)\n",
            "/usr/local/lib/python3.10/dist-packages/sklearn/cluster/_kmeans.py:1416: FutureWarning: The default value of `n_init` will change from 10 to 'auto' in 1.4. Set the value of `n_init` explicitly to suppress the warning\n",
            "  super()._check_params_vs_input(X, default_n_init=10)\n",
            "/usr/local/lib/python3.10/dist-packages/sklearn/cluster/_kmeans.py:1416: FutureWarning: The default value of `n_init` will change from 10 to 'auto' in 1.4. Set the value of `n_init` explicitly to suppress the warning\n",
            "  super()._check_params_vs_input(X, default_n_init=10)\n",
            "/usr/local/lib/python3.10/dist-packages/sklearn/cluster/_kmeans.py:1416: FutureWarning: The default value of `n_init` will change from 10 to 'auto' in 1.4. Set the value of `n_init` explicitly to suppress the warning\n",
            "  super()._check_params_vs_input(X, default_n_init=10)\n",
            "/usr/local/lib/python3.10/dist-packages/sklearn/cluster/_kmeans.py:1416: FutureWarning: The default value of `n_init` will change from 10 to 'auto' in 1.4. Set the value of `n_init` explicitly to suppress the warning\n",
            "  super()._check_params_vs_input(X, default_n_init=10)\n"
          ]
        },
        {
          "output_type": "display_data",
          "data": {
            "text/plain": [
              "<Figure size 640x480 with 1 Axes>"
            ],
            "image/png": "[encoded data removed]"
          },
          "metadata": {}
        }
      ]
    },
    {
      "cell_type": "markdown",
      "source": [
        "* Based on the elbow method, 3 appears to be the most suitable number of clusters for the given dataset.\n",
        "\n",
        "* This insight can guide further analysis and decision-making processes, such as segmenting data into distinct groups for targeted actions or understanding underlying patterns within the data."
      ],
      "metadata": {
        "id": "prv9UQVGVd8F"
      }
    },
    {
      "cell_type": "code",
      "source": [
        "optimal_clusters = 3\n",
        "kmeans = KMeans(n_clusters=optimal_clusters, random_state=42)\n",
        "kmeans.fit(X)\n",
        "labels = kmeans.labels_"
      ],
      "metadata": {
        "colab": {
          "base_uri": "https://localhost:8080/"
        },
        "id": "8SBWeu5XVla1",
        "outputId": "7544177f-68b9-4b35-9e6c-7efefa185f22"
      },
      "execution_count": 100,
      "outputs": [
        {
          "output_type": "stream",
          "name": "stderr",
          "text": [
            "/usr/local/lib/python3.10/dist-packages/sklearn/cluster/_kmeans.py:1416: FutureWarning: The default value of `n_init` will change from 10 to 'auto' in 1.4. Set the value of `n_init` explicitly to suppress the warning\n",
            "  super()._check_params_vs_input(X, default_n_init=10)\n"
          ]
        }
      ]
    },
    {
      "cell_type": "code",
      "source": [
        "plt.scatter(X[:, 0], X[:, 1], c=labels, cmap='viridis')\n",
        "plt.scatter(kmeans.cluster_centers_[:, 0], kmeans.cluster_centers_[:, 1], s=300, c='red', marker='X', label='Centroids')\n",
        "plt.title('KMeans Clustering')\n",
        "plt.xlabel('Estimated PV System Size (kWdc)')\n",
        "plt.ylabel('PV System Size (kWac)')\n",
        "plt.legend()\n",
        "plt.show()"
      ],
      "metadata": {
        "colab": {
          "base_uri": "https://localhost:8080/",
          "height": 480
        },
        "id": "lbmmydPIVnvs",
        "outputId": "578ed686-ecb7-46d8-e9f5-0948e5f536d3"
      },
      "execution_count": 101,
      "outputs": [
        {
          "output_type": "display_data",
          "data": {
            "text/plain": [
              "<Figure size 640x480 with 1 Axes>"
            ],
            "image/png": "[encoded data removed]"
          },
          "metadata": {}
        }
      ]
    },
    {
      "cell_type": "code",
      "source": [
        "feature_names = ['Estimated PV System Size (kWdc)', 'PV System Size (kWac)', 'Estimated Annual PV Energy Production (kWh)']\n",
        "\n",
        "for i in range(len(feature_names)):\n",
        "    for j in range(i + 1, len(feature_names)):\n",
        "        plt.figure(figsize=(8, 6))\n",
        "        plt.scatter(X[:, i], X[:, j], c=labels, cmap='viridis')\n",
        "        plt.scatter(kmeans.cluster_centers_[:, i], kmeans.cluster_centers_[:, j], s=300, c='red', marker='X', label='Centroids')\n",
        "        plt.title('KMeans Clustering')\n",
        "        plt.xlabel(feature_names[i])\n",
        "        plt.ylabel(feature_names[j])\n",
        "        plt.legend()\n",
        "        plt.show()"
      ],
      "metadata": {
        "colab": {
          "base_uri": "https://localhost:8080/",
          "height": 1000
        },
        "id": "IWtU-oC0Vs4y",
        "outputId": "6ac0a0d6-11b0-4e4f-e409-614a53b18345"
      },
      "execution_count": 102,
      "outputs": [
        {
          "output_type": "display_data",
          "data": {
            "text/plain": [
              "<Figure size 800x600 with 1 Axes>"
            ],
            "image/png": "[encoded data removed]"
          },
          "metadata": {}
        },
        {
          "output_type": "display_data",
          "data": {
            "text/plain": [
              "<Figure size 800x600 with 1 Axes>"
            ],
            "image/png": "[encoded data removed]"
          },
          "metadata": {}
        },
        {
          "output_type": "display_data",
          "data": {
            "text/plain": [
              "<Figure size 800x600 with 1 Axes>"
            ],
            "image/png": "[encoded data removed]"
          },
          "metadata": {}
        }
      ]
    },
    {
      "cell_type": "markdown",
      "source": [
        "*The linear grouping and placement of centroids suggest that the algorithm effectively separates the data into three clusters based on their feature values.*"
      ],
      "metadata": {
        "id": "0m3uoeHOV6Jq"
      }
    },
    {
      "cell_type": "markdown",
      "source": [
        "## **Conclusion:**\n",
        "\n",
        "* The addition of the 'Cluster' and 'Segment' columns enables the DataFrame to categorize each data point into meaningful segments based on the clustering results.\n",
        "\n",
        "* In the higher zone, the estimated annual PV energy production is the highest at 18.67k, followed by 11.32k in the lower zone and 6.12k in the moderate zone.\n",
        "\n",
        "* The average PV system size in the higher zone is the highest among all zones, indicating larger solar installations in this area.\n",
        "\n",
        "* In December, all annual PV energy production occurs, indicating that December is a significant month for solar energy production, potentially due to favorable weather conditions or operational factors."
      ],
      "metadata": {
        "id": "8odEsAW_WJv8"
      }
    }
  ]
}